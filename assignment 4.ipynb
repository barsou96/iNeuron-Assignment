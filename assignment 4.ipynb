{
 "cells": [
  {
   "cell_type": "code",
   "execution_count": 1,
   "id": "6b33de73",
   "metadata": {},
   "outputs": [],
   "source": [
    "# 1. What exactly is []?"
   ]
  },
  {
   "cell_type": "code",
   "execution_count": 3,
   "id": "225a0516",
   "metadata": {},
   "outputs": [],
   "source": [
    "# [] when executed simply returns this only, but this can be used while defining a list\n",
    "# eg, a = ['ram','xyz', 123]"
   ]
  },
  {
   "cell_type": "code",
   "execution_count": 4,
   "id": "df73ad4e",
   "metadata": {},
   "outputs": [],
   "source": [
    "#2. In a list of values stored in a variable called spam,\n",
    "# how would you assign the value 'hello' as the third value? (Assume [2, 4, 6, 8, 10] are in spam.)"
   ]
  },
  {
   "cell_type": "code",
   "execution_count": 5,
   "id": "29e1a729",
   "metadata": {},
   "outputs": [
    {
     "data": {
      "text/plain": [
       "[2, 4, 'hello', 8, 10]"
      ]
     },
     "execution_count": 5,
     "metadata": {},
     "output_type": "execute_result"
    }
   ],
   "source": [
    "spam = [2,4,6,8,10]\n",
    "spam[2] = 'hello'\n",
    "spam"
   ]
  },
  {
   "cell_type": "code",
   "execution_count": 6,
   "id": "08af994e",
   "metadata": {},
   "outputs": [],
   "source": [
    "# Let's pretend the spam includes the list ['a', 'b', 'c', 'd'] for the next three queries.\n",
    "#3. What is the value of spam[int(int('3' * 2) / 11)]?\n",
    "#4. What is the value of spam[-1]?\n",
    "#5. What is the value of spam[:2]?"
   ]
  },
  {
   "cell_type": "code",
   "execution_count": 7,
   "id": "f9e63175",
   "metadata": {},
   "outputs": [
    {
     "data": {
      "text/plain": [
       "'d'"
      ]
     },
     "execution_count": 7,
     "metadata": {},
     "output_type": "execute_result"
    }
   ],
   "source": [
    "#3\n",
    "spam = ['a','b','c','d']\n",
    "spam[int(int('3'*2)/11)] #spam[int(33/11)] = spam[3]"
   ]
  },
  {
   "cell_type": "code",
   "execution_count": 9,
   "id": "a932caa7",
   "metadata": {},
   "outputs": [
    {
     "data": {
      "text/plain": [
       "'d'"
      ]
     },
     "execution_count": 9,
     "metadata": {},
     "output_type": "execute_result"
    }
   ],
   "source": [
    "#4\n",
    "spam = ['a','b','c','d']\n",
    "spam[-1] #negative index # d"
   ]
  },
  {
   "cell_type": "code",
   "execution_count": 10,
   "id": "e8b246f6",
   "metadata": {},
   "outputs": [
    {
     "data": {
      "text/plain": [
       "['a', 'b']"
      ]
     },
     "execution_count": 10,
     "metadata": {},
     "output_type": "execute_result"
    }
   ],
   "source": [
    "#5\n",
    "spam[:2] #c"
   ]
  },
  {
   "cell_type": "code",
   "execution_count": 11,
   "id": "ab2955cc",
   "metadata": {},
   "outputs": [],
   "source": [
    "# Let's pretend bacon has the list [3.14, 'cat', 11, 'cat', True] for the next three questions.\n",
    "#6. What is the value of bacon.index('cat')?\n",
    "#7. How does bacon.append(99) change the look of the list value in bacon?\n",
    "#8. How does bacon.remove('cat') change the look of the list in bacon?"
   ]
  },
  {
   "cell_type": "code",
   "execution_count": 13,
   "id": "ad4601d5",
   "metadata": {},
   "outputs": [
    {
     "data": {
      "text/plain": [
       "1"
      ]
     },
     "execution_count": 13,
     "metadata": {},
     "output_type": "execute_result"
    }
   ],
   "source": [
    "#6\n",
    "bacon = [3.14, 'cat', 11, 'cat', True]\n",
    "bacon.index('cat') # it returns the index of first occurence of 'cat'"
   ]
  },
  {
   "cell_type": "code",
   "execution_count": 14,
   "id": "c47843b0",
   "metadata": {},
   "outputs": [
    {
     "data": {
      "text/plain": [
       "[3.14, 'cat', 11, 'cat', True, 99]"
      ]
     },
     "execution_count": 14,
     "metadata": {},
     "output_type": "execute_result"
    }
   ],
   "source": [
    "#7\n",
    "bacon = [3.14, 'cat', 11, 'cat', True]\n",
    "bacon.append(99) #append adds the item at the end of the list\n",
    "bacon"
   ]
  },
  {
   "cell_type": "code",
   "execution_count": 15,
   "id": "1dce63ab",
   "metadata": {},
   "outputs": [
    {
     "data": {
      "text/plain": [
       "[3.14, 11, 'cat', True]"
      ]
     },
     "execution_count": 15,
     "metadata": {},
     "output_type": "execute_result"
    }
   ],
   "source": [
    "#8\n",
    "bacon = [3.14, 'cat', 11, 'cat', True]\n",
    "bacon.remove('cat') # remove first occurence of item\n",
    "bacon"
   ]
  },
  {
   "cell_type": "code",
   "execution_count": 16,
   "id": "f2bfa810",
   "metadata": {},
   "outputs": [],
   "source": [
    "# 9. What are the list concatenation and list replication operators?"
   ]
  },
  {
   "cell_type": "code",
   "execution_count": 17,
   "id": "45295612",
   "metadata": {},
   "outputs": [
    {
     "data": {
      "text/plain": [
       "[1, 4, 2, 5]"
      ]
     },
     "execution_count": 17,
     "metadata": {},
     "output_type": "execute_result"
    }
   ],
   "source": [
    "l1 = [1,4]\n",
    "l2 = [2,5]\n",
    "# list concatenation \n",
    "l1+l2"
   ]
  },
  {
   "cell_type": "code",
   "execution_count": 18,
   "id": "0be27235",
   "metadata": {},
   "outputs": [
    {
     "data": {
      "text/plain": [
       "[7, 4, 7, 4, 7, 4]"
      ]
     },
     "execution_count": 18,
     "metadata": {},
     "output_type": "execute_result"
    }
   ],
   "source": [
    "l1 = [7,4]\n",
    "# list replication\n",
    "l1*3"
   ]
  },
  {
   "cell_type": "code",
   "execution_count": 19,
   "id": "5f3515ab",
   "metadata": {},
   "outputs": [],
   "source": [
    "# 10. What is difference between the list methods append() and insert()?"
   ]
  },
  {
   "cell_type": "code",
   "execution_count": 20,
   "id": "9532c8cd",
   "metadata": {},
   "outputs": [],
   "source": [
    "# append() Appends object to the end of the list\n",
    "# insert() Insert object before index"
   ]
  },
  {
   "cell_type": "code",
   "execution_count": 21,
   "id": "ec4aebe6",
   "metadata": {},
   "outputs": [
    {
     "data": {
      "text/plain": [
       "[3.14, 'cat', 11, 'cat', True, 99]"
      ]
     },
     "execution_count": 21,
     "metadata": {},
     "output_type": "execute_result"
    }
   ],
   "source": [
    "bacon = [3.14, 'cat', 11, 'cat', True]\n",
    "bacon.append(99) #append adds the item at the end of the list\n",
    "bacon"
   ]
  },
  {
   "cell_type": "code",
   "execution_count": 22,
   "id": "7b377084",
   "metadata": {},
   "outputs": [
    {
     "data": {
      "text/plain": [
       "[2, 4, 'hello', 6, 8, 10]"
      ]
     },
     "execution_count": 22,
     "metadata": {},
     "output_type": "execute_result"
    }
   ],
   "source": [
    "# solution by inserting value in 3rd index\n",
    "spam = [2,4,6,8,10]\n",
    "spam.insert(2,'hello')\n",
    "spam"
   ]
  },
  {
   "cell_type": "code",
   "execution_count": 23,
   "id": "494caf10",
   "metadata": {},
   "outputs": [],
   "source": [
    "# 11. What are the two methods for removing items from a list?"
   ]
  },
  {
   "cell_type": "code",
   "execution_count": 24,
   "id": "02c9fc63",
   "metadata": {},
   "outputs": [
    {
     "data": {
      "text/plain": [
       "[3.14, 11, 'cat', True]"
      ]
     },
     "execution_count": 24,
     "metadata": {},
     "output_type": "execute_result"
    }
   ],
   "source": [
    "#remove(item) - removes first occurence of a item\n",
    "bacon = [3.14, 'cat', 11, 'cat', True]\n",
    "bacon.remove('cat')\n",
    "bacon"
   ]
  },
  {
   "cell_type": "code",
   "execution_count": 25,
   "id": "90d2a6b3",
   "metadata": {},
   "outputs": [
    {
     "data": {
      "text/plain": [
       "[3.14, 'cat', 11, 'cat']"
      ]
     },
     "execution_count": 25,
     "metadata": {},
     "output_type": "execute_result"
    }
   ],
   "source": [
    "#pop() - Remove and returns item at index (default last).\n",
    "bacon = [3.14, 'cat', 11, 'cat', True]\n",
    "bacon.pop()\n",
    "bacon"
   ]
  },
  {
   "cell_type": "code",
   "execution_count": 26,
   "id": "b4279cf6",
   "metadata": {},
   "outputs": [],
   "source": [
    "# 12. Describe how list values and string values are identical."
   ]
  },
  {
   "cell_type": "code",
   "execution_count": 27,
   "id": "5b96a983",
   "metadata": {},
   "outputs": [],
   "source": [
    "# i). Both lists and strings can be passed to len().\n",
    "# ii). Have indexes and slices.\n",
    "# iii). Can be used in for loops.\n",
    "# iv). Can be concatenated or replicated.\n",
    "# v). Can be used with the in and not in operators."
   ]
  },
  {
   "cell_type": "code",
   "execution_count": 29,
   "id": "ce3c0f68",
   "metadata": {},
   "outputs": [],
   "source": [
    "# 13. What's the difference between tuples and lists?"
   ]
  },
  {
   "cell_type": "code",
   "execution_count": 30,
   "id": "b98108f2",
   "metadata": {},
   "outputs": [],
   "source": [
    "# Lists: are mutable- they can have values added, removed, or changed. Lists use the square brackets.\n",
    "# Tuples: are immutable; they cannot be changed at all. Tuples are written using parentheses."
   ]
  },
  {
   "cell_type": "code",
   "execution_count": 31,
   "id": "efc96c30",
   "metadata": {},
   "outputs": [],
   "source": [
    "# 14. How do you type a tuple value that only contains the integer 42?"
   ]
  },
  {
   "cell_type": "code",
   "execution_count": 32,
   "id": "d3070b41",
   "metadata": {},
   "outputs": [
    {
     "data": {
      "text/plain": [
       "(42,)"
      ]
     },
     "execution_count": 32,
     "metadata": {},
     "output_type": "execute_result"
    }
   ],
   "source": [
    "tuple = (42,)\n",
    "tuple"
   ]
  },
  {
   "cell_type": "code",
   "execution_count": 33,
   "id": "efb6fd5d",
   "metadata": {},
   "outputs": [],
   "source": [
    "# 15. How do you get a list value's tuple form? How do you get a tuple value's list form?"
   ]
  },
  {
   "cell_type": "code",
   "execution_count": 1,
   "id": "7867a25c",
   "metadata": {},
   "outputs": [
    {
     "data": {
      "text/plain": [
       "(2, 3)"
      ]
     },
     "execution_count": 1,
     "metadata": {},
     "output_type": "execute_result"
    }
   ],
   "source": [
    "l1 = [2,3]\n",
    "l = tuple(l1)\n",
    "l"
   ]
  },
  {
   "cell_type": "code",
   "execution_count": 2,
   "id": "a68cc5bc",
   "metadata": {},
   "outputs": [
    {
     "data": {
      "text/plain": [
       "[3, 4]"
      ]
     },
     "execution_count": 2,
     "metadata": {},
     "output_type": "execute_result"
    }
   ],
   "source": [
    "t1 = (3,4)\n",
    "t = list(t1)\n",
    "t"
   ]
  },
  {
   "cell_type": "code",
   "execution_count": 3,
   "id": "04fe9358",
   "metadata": {},
   "outputs": [],
   "source": [
    "# 16. Variables that \"contain\" list values are not necessarily lists themselves. Instead, what do they contain?"
   ]
  },
  {
   "cell_type": "code",
   "execution_count": 4,
   "id": "61e26f34",
   "metadata": {},
   "outputs": [],
   "source": [
    "# They contain references to list values."
   ]
  },
  {
   "cell_type": "code",
   "execution_count": 5,
   "id": "230f4327",
   "metadata": {},
   "outputs": [],
   "source": [
    "# 17. How do you distinguish between copy.copy() and copy.deepcopy()?"
   ]
  },
  {
   "cell_type": "code",
   "execution_count": null,
   "id": "b94ccbf9",
   "metadata": {},
   "outputs": [],
   "source": [
    "# The copy.copy() function will do a shallow copy of a list.\n",
    "# The copy.deepcopy() function will do a deep copy of a list.\n",
    "# Only copy.deepcopy() will duplicate any lists inside the list."
   ]
  }
 ],
 "metadata": {
  "kernelspec": {
   "display_name": "Python 3 (ipykernel)",
   "language": "python",
   "name": "python3"
  },
  "language_info": {
   "codemirror_mode": {
    "name": "ipython",
    "version": 3
   },
   "file_extension": ".py",
   "mimetype": "text/x-python",
   "name": "python",
   "nbconvert_exporter": "python",
   "pygments_lexer": "ipython3",
   "version": "3.9.12"
  }
 },
 "nbformat": 4,
 "nbformat_minor": 5
}
