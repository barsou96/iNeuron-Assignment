{
 "cells": [
  {
   "cell_type": "code",
   "execution_count": 1,
   "id": "8ae8a2cd",
   "metadata": {},
   "outputs": [],
   "source": [
    "# 1. What is the name of the feature responsible for generating Regex objects?"
   ]
  },
  {
   "cell_type": "code",
   "execution_count": 2,
   "id": "f9e70ad0",
   "metadata": {},
   "outputs": [],
   "source": [
    "# Python provides a re module that supports the use of regex in Python. Its primary function is to offer a search, where it\n",
    "# takes a regular expression and a string. Here, it either returns the first match or else none."
   ]
  },
  {
   "cell_type": "code",
   "execution_count": 3,
   "id": "26ac3090",
   "metadata": {},
   "outputs": [
    {
     "name": "stdout",
     "output_type": "stream",
     "text": [
      "Start Index: 34\n",
      "End Index: 40\n"
     ]
    }
   ],
   "source": [
    "import re\n",
    "s = \"Honda City Hybrid: car with great milage and looks\"\n",
    "match = re.search(r'milage', s)\n",
    "print('Start Index:', match.start())\n",
    "print('End Index:', match.end())"
   ]
  },
  {
   "cell_type": "code",
   "execution_count": 4,
   "id": "3a69eb5b",
   "metadata": {},
   "outputs": [],
   "source": [
    "# 2. Why do raw strings often appear in Regex objects?"
   ]
  },
  {
   "cell_type": "code",
   "execution_count": 5,
   "id": "4dc96aba",
   "metadata": {},
   "outputs": [],
   "source": [
    "# Raw strings are use in regex objects so that backslashes do not have to be escaped."
   ]
  },
  {
   "cell_type": "code",
   "execution_count": 6,
   "id": "22ac2a55",
   "metadata": {},
   "outputs": [],
   "source": [
    "# 3. What is the return value of the search() method?"
   ]
  },
  {
   "cell_type": "code",
   "execution_count": 7,
   "id": "a4ca1251",
   "metadata": {},
   "outputs": [],
   "source": [
    "# re.search() searches for the whole string even if the string contains multi-lines and tries to find a match of the substring\n",
    "# in all the lines of string."
   ]
  },
  {
   "cell_type": "code",
   "execution_count": 8,
   "id": "11861516",
   "metadata": {},
   "outputs": [],
   "source": [
    "# 4. From a Match item, how do you get the actual strings that match the pattern?"
   ]
  },
  {
   "cell_type": "code",
   "execution_count": 9,
   "id": "70443f7c",
   "metadata": {},
   "outputs": [],
   "source": [
    "# re.match() searches only from the begining of the string and return match object if found."
   ]
  },
  {
   "cell_type": "code",
   "execution_count": 10,
   "id": "5bdf19ec",
   "metadata": {},
   "outputs": [
    {
     "name": "stdout",
     "output_type": "stream",
     "text": [
      "<re.Match object; span=(48, 54), match='string'>\n",
      "None\n",
      "<re.Match object; span=(0, 6), match='string'>\n",
      "<re.Match object; span=(0, 6), match='string'>\n"
     ]
    }
   ],
   "source": [
    "# import re module\n",
    "import re\n",
    "Substring = 'string'\n",
    "String1 = '''We are learning regex, regex is very useful for string matching. It is fast too. '''\n",
    "String2 = '''string We are learning regex regex is very useful for string matching. It is fast too. '''\n",
    "# Use of re.search() Method\n",
    "print(re.search(Substring, String1, re.IGNORECASE))\n",
    "# Use of re.match() Method\n",
    "print(re.match(Substring, String1, re.IGNORECASE))\n",
    "#Use of re.search() Method\n",
    "print(re.search(Substring, String2, re.IGNORECASE))\n",
    "#Use of re.match() Method \n",
    "print(re.match(Substring, String2, re.IGNORECASE))\n",
    "\n",
    "               "
   ]
  },
  {
   "cell_type": "code",
   "execution_count": 11,
   "id": "0ffe32c5",
   "metadata": {},
   "outputs": [],
   "source": [
    "# 5. In the regex which created from the r&#39;(\\d\\d\\d)-(\\d\\d\\d-\\d\\d\\d\\d)&#39;, what does group zero cover?\n",
    "#Group 2? Group 1?"
   ]
  },
  {
   "cell_type": "code",
   "execution_count": 12,
   "id": "6bc2a21b",
   "metadata": {},
   "outputs": [],
   "source": [
    "# Group 0 is the entire match, group 1 covers the first set of parentheses, and group 2 covers the second set of parentheses."
   ]
  },
  {
   "cell_type": "code",
   "execution_count": 13,
   "id": "c741a6fa",
   "metadata": {},
   "outputs": [],
   "source": [
    "# 6. In standard expression syntax, parentheses and intervals have distinct meanings. How can you tell\n",
    "# a regex that you want it to fit real parentheses and periods?"
   ]
  },
  {
   "cell_type": "code",
   "execution_count": 14,
   "id": "c9ccb5ed",
   "metadata": {},
   "outputs": [],
   "source": [
    "# Periods and parentheses can be escaped with a backlash:\\.,\\(,and \\)."
   ]
  },
  {
   "cell_type": "code",
   "execution_count": 15,
   "id": "26bd9ec0",
   "metadata": {},
   "outputs": [],
   "source": [
    "# 7. The findall() method returns a string list or a list of string tuples. What causes it to return one of\n",
    "# the two options?"
   ]
  },
  {
   "cell_type": "code",
   "execution_count": 16,
   "id": "37e519fb",
   "metadata": {},
   "outputs": [],
   "source": [
    "# If the regex has no groups, a list of strings is returned. If the regex has groups, a list of tuples of strings is \n",
    "# returned."
   ]
  },
  {
   "cell_type": "code",
   "execution_count": 17,
   "id": "5062da40",
   "metadata": {},
   "outputs": [],
   "source": [
    "# 8. In standard expressions, what does the | character mean?"
   ]
  },
  {
   "cell_type": "code",
   "execution_count": 18,
   "id": "4d9cb888",
   "metadata": {},
   "outputs": [],
   "source": [
    "# The | charecter signifies matching 'either,or' between two groups.\n",
    "# Regular expressions use the backlash charecter ('\\') to indicate special forms or to allow special charecters to be used \n",
    "# without invoking their special meaning. This collides with python's usage of the same charecter for the same purpose in string\n",
    "# literals; for example, to match a literal backlash, one might have to write |'\\\\\\\\'|as the pattern string, because the regular\n",
    "# expression must be |\\\\|, and each backlash must be expressed as |\\\\| inside a regular python string literal."
   ]
  },
  {
   "cell_type": "code",
   "execution_count": 19,
   "id": "4d7fad41",
   "metadata": {},
   "outputs": [],
   "source": [
    "# 9. In regular expressions, what does the character stand for?"
   ]
  },
  {
   "cell_type": "code",
   "execution_count": 20,
   "id": "b0a32aed",
   "metadata": {},
   "outputs": [],
   "source": [
    "# Charecter : All charecters, except those having special meaning in regex, matches themselves.\n",
    "# e.g the regex x matches substring \"x\"; regex 9 matches \"9\"; regex = matches \"=\"; and regex @ matches \"@\"."
   ]
  },
  {
   "cell_type": "code",
   "execution_count": 21,
   "id": "72b3d446",
   "metadata": {},
   "outputs": [],
   "source": [
    "# 10.In regular expressions, what is the difference between the + and * characters?"
   ]
  },
  {
   "cell_type": "code",
   "execution_count": 22,
   "id": "5c858fc5",
   "metadata": {},
   "outputs": [],
   "source": [
    "# Each of them are quantifiers, the star quantifier(*) means that the preceeding expression can match zero or more times \n",
    "# it is like {0,} while the plus quantifier(+) indicate that the preceeding expression MUST match at least one time or \n",
    "# multiple times and it is same as {1,}\n",
    "# a* -----> a{0,} -----> Match a or aa or aaaaa or an empty string\n",
    "# a+ -----> a{1,} -----> Match a or aa or aaaaa but not an empty string"
   ]
  },
  {
   "cell_type": "code",
   "execution_count": 25,
   "id": "663ea903",
   "metadata": {},
   "outputs": [],
   "source": [
    "# 11. What is the difference between {4} and {4,5} in regular expression?"
   ]
  },
  {
   "cell_type": "code",
   "execution_count": null,
   "id": "5cd8a825",
   "metadata": {},
   "outputs": [],
   "source": []
  },
  {
   "cell_type": "code",
   "execution_count": 24,
   "id": "673c1281",
   "metadata": {},
   "outputs": [],
   "source": [
    "# 12. What do you mean by the \\d, \\w, and \\s shorthand character classes signify in regular\n",
    "# expressions?"
   ]
  },
  {
   "cell_type": "code",
   "execution_count": 26,
   "id": "5620ed02",
   "metadata": {},
   "outputs": [],
   "source": [
    "# the \\d, \\w and \\s shorthand charecter classes match a single digit, word or space charecter."
   ]
  },
  {
   "cell_type": "code",
   "execution_count": 27,
   "id": "c7ecc39b",
   "metadata": {},
   "outputs": [],
   "source": [
    "# 13. What do means by \\D, \\W, and \\S shorthand character classes signify in regular expressions?"
   ]
  },
  {
   "cell_type": "code",
   "execution_count": 28,
   "id": "5f45d742",
   "metadata": {},
   "outputs": [],
   "source": [
    "# The \\D, \\W and \\S shorthand charecter classes match a single charecter that is NOT a digit, word, or space charecter."
   ]
  },
  {
   "cell_type": "code",
   "execution_count": 29,
   "id": "3a07a9b1",
   "metadata": {},
   "outputs": [],
   "source": [
    "# 14. What is the difference between .*? and .*?"
   ]
  },
  {
   "cell_type": "code",
   "execution_count": 30,
   "id": "6f1e680b",
   "metadata": {},
   "outputs": [],
   "source": [
    "#  Using 1.*1, * is greedy- it will match all the way to the end, and then backtrack until it can match 1, leaving \n",
    "#  you with 101000000000100.\n",
    "#  .*? is non-greedy. * will match nothing, but then will try to match extra charecters until it matches 1, eventually\n",
    "#  matching 101.\n",
    "# All quantifiers have a non-greedy mode: .*?, .+?, .{2,6}, and even .??"
   ]
  },
  {
   "cell_type": "code",
   "execution_count": 31,
   "id": "81a27f65",
   "metadata": {},
   "outputs": [],
   "source": [
    "# 15. What is the syntax for matching both numbers and lowercase letters with a character class?"
   ]
  },
  {
   "cell_type": "code",
   "execution_count": 32,
   "id": "1c346a2d",
   "metadata": {},
   "outputs": [],
   "source": [
    "# [0-9a-z] or [a-z0-9]"
   ]
  },
  {
   "cell_type": "code",
   "execution_count": 1,
   "id": "c99c9da0",
   "metadata": {},
   "outputs": [],
   "source": [
    "#The meat of the matching is done with the \\w{8} which means 8 letters/words (including capitals and underscore).\n",
    "# \\b means \"word boundary\"\n",
    " # If you want only digits and lowercase letters, replace this by \\b[a-z0-9]{8}\\b. \n",
    "# You can then further check for existence of both digits AND letter, e.g. by using filter:"
   ]
  },
  {
   "cell_type": "code",
   "execution_count": 2,
   "id": "23b2d62d",
   "metadata": {},
   "outputs": [],
   "source": [
    "# 16. What is the procedure for making a normal expression in regax case insensitive?\n"
   ]
  },
  {
   "cell_type": "code",
   "execution_count": 3,
   "id": "ca91cb04",
   "metadata": {},
   "outputs": [],
   "source": [
    "# Passing re.I or re.IGNORECASE as the second argument to re.compile() will make the matching case insensitive."
   ]
  },
  {
   "cell_type": "code",
   "execution_count": 4,
   "id": "6b65c978",
   "metadata": {},
   "outputs": [],
   "source": [
    "# 17. What does the . character normally match? What does it match if re.DOTALL is passed as 2nd argument in re.compile()?\n"
   ]
  },
  {
   "cell_type": "code",
   "execution_count": 5,
   "id": "87f30926",
   "metadata": {},
   "outputs": [],
   "source": [
    "# The . charecter normally matches any charecter except the newline charecter. If re.DOTALL is passed as the second argument to \n",
    "# re.compile(), then the dot will also match newline charecters."
   ]
  },
  {
   "cell_type": "code",
   "execution_count": 6,
   "id": "872fdf09",
   "metadata": {},
   "outputs": [],
   "source": [
    "# 18. If numReg = re.compile(r'\\d+'), what will numRegex.sub('X', '11 drummers, 10 pipers, five rings, 4 hen') return?\n"
   ]
  },
  {
   "cell_type": "code",
   "execution_count": 7,
   "id": "c462ea37",
   "metadata": {},
   "outputs": [],
   "source": [
    "# 'X drummers, X pipers, five rings, X hens'"
   ]
  },
  {
   "cell_type": "code",
   "execution_count": 8,
   "id": "21ce32b6",
   "metadata": {},
   "outputs": [],
   "source": [
    "# 19. What does passing re.VERBOSE as the 2nd argument to re.compile() allow to do?\n"
   ]
  },
  {
   "cell_type": "code",
   "execution_count": 9,
   "id": "f4b56a4f",
   "metadata": {},
   "outputs": [],
   "source": [
    "# The re.VERBOSE argument allows you to add whitespace and comments the string passed to re.compile()."
   ]
  },
  {
   "cell_type": "code",
   "execution_count": null,
   "id": "02007288",
   "metadata": {},
   "outputs": [],
   "source": [
    "# 20. How would you write a regex that match a number with comma for every three digits? It must match the given following:\n",
    "#'42'\n",
    "#'1,234'\n",
    "#'6,368,745'\n",
    "#but not the following:\n",
    "#'12,34,567' (which has only two digits between the commas)\n",
    "#'1234' (which lacks commas)\n"
   ]
  },
  {
   "cell_type": "code",
   "execution_count": 10,
   "id": "5b2ad471",
   "metadata": {},
   "outputs": [],
   "source": [
    "# re.compile(r'^\\d{1,3}(,\\d{3})*$') will create this regex, but other regex strings can produce a similar regular expression."
   ]
  },
  {
   "cell_type": "code",
   "execution_count": 11,
   "id": "e5b49eb3",
   "metadata": {},
   "outputs": [],
   "source": [
    "#21. How would you write a regex that matches the full name of someone whose last name is Watanabe? You can assume that the first name that comes before it will always be one word that begins with a capital letter. The regex must match the following:\n",
    "#'Haruto Watanabe'\n",
    "#'Alice Watanabe'\n",
    "#'RoboCop Watanabe'\n",
    "#but not the following:\n",
    "#'haruto Watanabe' (where the first name is not capitalized)\n",
    "#'Mr. Watanabe' (where the preceding word has a nonletter character)\n",
    "#'Watanabe' (which has no first name)\n",
    "#'Haruto watanabe' (where Watanabe is not capitalized)\n"
   ]
  },
  {
   "cell_type": "code",
   "execution_count": 12,
   "id": "4b2a1a78",
   "metadata": {},
   "outputs": [],
   "source": [
    "# re.compile(r'[A-Z][a-z]*\\sNakamoto')"
   ]
  },
  {
   "cell_type": "code",
   "execution_count": 13,
   "id": "3ef060f3",
   "metadata": {},
   "outputs": [],
   "source": [
    "#22. How would you write a regex that matches a sentence where the first word is either Alice, Bob, or Carol; the second word is either eats, pets, or throws; the third word is apples, cats, or baseballs; and the sentence ends with a period? This regex should be case-insensitive. It must match the following:\n",
    "#'Alice eats apples.'\n",
    "#'Bob pets cats.'\n",
    "#'Carol throws baseballs.'\n",
    "#'Alice throws Apples.'\n",
    "#'BOB EATS CATS.'\n",
    "#but not the following:\n",
    "#'RoboCop eats apples.'\n",
    "#'ALICE THROWS FOOTBALLS.'\n",
    "#'Carol eats 7 cats.'\n"
   ]
  },
  {
   "cell_type": "code",
   "execution_count": null,
   "id": "23872a3e",
   "metadata": {},
   "outputs": [],
   "source": [
    "# re.compile(r'(Alice|Bob|Carol)\\s(eats|pets|throws)\\s(apples|cats|baseballs)\\.',re.IGNORECASE)"
   ]
  }
 ],
 "metadata": {
  "kernelspec": {
   "display_name": "Python 3 (ipykernel)",
   "language": "python",
   "name": "python3"
  },
  "language_info": {
   "codemirror_mode": {
    "name": "ipython",
    "version": 3
   },
   "file_extension": ".py",
   "mimetype": "text/x-python",
   "name": "python",
   "nbconvert_exporter": "python",
   "pygments_lexer": "ipython3",
   "version": "3.9.12"
  }
 },
 "nbformat": 4,
 "nbformat_minor": 5
}
