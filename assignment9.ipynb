{
 "cells": [
  {
   "cell_type": "code",
   "execution_count": 1,
   "id": "aeeac9f9",
   "metadata": {},
   "outputs": [],
   "source": [
    "# 1. To what does a relative path refer?"
   ]
  },
  {
   "cell_type": "code",
   "execution_count": 2,
   "id": "6cbe27ca",
   "metadata": {},
   "outputs": [],
   "source": [
    "# The absolute path is helpful, but it can become complex very soon.\n",
    "#So, to minimize this complexity, a relative path is used. \n",
    "#Relative path means the path of a certain file relative to the current working directory.\n",
    "#For example, \n",
    "#if the current working directory is C:\\PythonProjects\\Tutorials, \n",
    "#the path.py file’s relative path would be \\Paths\\paths.py which is shorter\n",
    "#and easier to use than the absolute path C:\\PythonProjects\\Tutorials\\Paths\\paths.py."
   ]
  },
  {
   "cell_type": "code",
   "execution_count": 3,
   "id": "4350f041",
   "metadata": {},
   "outputs": [],
   "source": [
    "# 2. What does an absolute path start with your operating system?"
   ]
  },
  {
   "cell_type": "code",
   "execution_count": 4,
   "id": "183724e9",
   "metadata": {},
   "outputs": [],
   "source": [
    "# An absolute path refers to the complete details needed to locate a file or folder,\n",
    "#starting from the root element and ending with the other subdirectories.\n",
    "#Absolute paths are used in websites and operating systems for locating files and folders. \n",
    "#An absolute path is also known as an absolute pathname or full path."
   ]
  },
  {
   "cell_type": "code",
   "execution_count": 5,
   "id": "567cedb4",
   "metadata": {},
   "outputs": [],
   "source": [
    "# 3. What do the functions os.getcwd() and os.chdir() do?"
   ]
  },
  {
   "cell_type": "code",
   "execution_count": 6,
   "id": "93e03404",
   "metadata": {},
   "outputs": [],
   "source": [
    "# The method getcwd() returns current working directory of a process.\n",
    "\n",
    "# os.chdir() method in Python used to change the current working directory to specified path.\n",
    "#It takes only a single argument as new directory path."
   ]
  },
  {
   "cell_type": "code",
   "execution_count": 7,
   "id": "7c039153",
   "metadata": {},
   "outputs": [],
   "source": [
    "# 4. What are the . and .. folders?"
   ]
  },
  {
   "cell_type": "code",
   "execution_count": null,
   "id": "cd22419b",
   "metadata": {},
   "outputs": [],
   "source": [
    "#The . is the current directory, while .. signifies the parent directory."
   ]
  },
  {
   "cell_type": "code",
   "execution_count": 8,
   "id": "652cc328",
   "metadata": {},
   "outputs": [],
   "source": [
    "# 5. In C:\\bacon\\eggs\\spam.txt, which part is the dir name, and which part is the base name?"
   ]
  },
  {
   "cell_type": "code",
   "execution_count": 9,
   "id": "9cf78dfc",
   "metadata": {},
   "outputs": [],
   "source": [
    "# The basename is the final rightmost segment of the file path .\n",
    "#In the above path base name is spam.txt. os.path.basename() can be used to extract base name from the path. \n",
    "#dir name is th folder name in which file exists. \n",
    "#In the above path dir name is C:\\bacon\\eggs . os.path.dirname() can be used to extract dir name form path."
   ]
  },
  {
   "cell_type": "code",
   "execution_count": 10,
   "id": "c048b3f2",
   "metadata": {},
   "outputs": [],
   "source": [
    "# 6. What are the three “mode” arguments that can be passed to the open() function?"
   ]
  },
  {
   "cell_type": "code",
   "execution_count": 11,
   "id": "392d296c",
   "metadata": {},
   "outputs": [],
   "source": [
    "# mode arguments that can be passed to open () function are: 'r' Open a file for reading. \n",
    "#(default) 'w' Open a file for writing. Creates a new file if it does not exist or truncates the file if it exists.\n",
    "#'a' Open for appending at the end of the file without truncating it.\n",
    "#Creates a new file if it does not exist. '+' Open a file for updating (reading and writing."
   ]
  },
  {
   "cell_type": "code",
   "execution_count": 12,
   "id": "d3c3dd6d",
   "metadata": {},
   "outputs": [],
   "source": [
    "# 7. What happens if an existing file is opened in write mode?"
   ]
  },
  {
   "cell_type": "code",
   "execution_count": 13,
   "id": "5747a0ac",
   "metadata": {},
   "outputs": [],
   "source": [
    "#when a existing file is opened in write mode,\n",
    "#contens which were previously present will be overwritten by new content passed."
   ]
  },
  {
   "cell_type": "code",
   "execution_count": 14,
   "id": "fc960931",
   "metadata": {},
   "outputs": [],
   "source": [
    "# 8. How do you tell the difference between read() and readlines()?"
   ]
  },
  {
   "cell_type": "code",
   "execution_count": 15,
   "id": "2064da60",
   "metadata": {},
   "outputs": [],
   "source": [
    "# read() reads the entire contents of the file into a string. readline() just reads file till the next line."
   ]
  },
  {
   "cell_type": "code",
   "execution_count": 16,
   "id": "8eaf2ca2",
   "metadata": {},
   "outputs": [],
   "source": [
    "# 9. What data structure does a shelf value resemble?"
   ]
  },
  {
   "cell_type": "code",
   "execution_count": null,
   "id": "fcdd4ff2",
   "metadata": {},
   "outputs": [],
   "source": [
    "# A shelf value resembles a dictionary value; it has keys and values, \n",
    "# along with keys() and values() methods that work similarly to the dictionary methods of the same names."
   ]
  }
 ],
 "metadata": {
  "kernelspec": {
   "display_name": "Python 3 (ipykernel)",
   "language": "python",
   "name": "python3"
  },
  "language_info": {
   "codemirror_mode": {
    "name": "ipython",
    "version": 3
   },
   "file_extension": ".py",
   "mimetype": "text/x-python",
   "name": "python",
   "nbconvert_exporter": "python",
   "pygments_lexer": "ipython3",
   "version": "3.9.12"
  }
 },
 "nbformat": 4,
 "nbformat_minor": 5
}
