{
 "cells": [
  {
   "cell_type": "code",
   "execution_count": 1,
   "id": "72c2db57",
   "metadata": {},
   "outputs": [],
   "source": [
    "#1. Create a zoo.py file first. Define the hours() function, which prints the string &#39;Open 9-5 daily&#39;.\n",
    "#Then, use the interactive interpreter to import the zoo module and call its hours() function."
   ]
  },
  {
   "cell_type": "code",
   "execution_count": 3,
   "id": "146489b6",
   "metadata": {},
   "outputs": [],
   "source": [
    "#import zoo\n",
    "#from importlib import reload\n",
    "#reload(zoo)\n",
    "#zoo.hours()"
   ]
  },
  {
   "cell_type": "code",
   "execution_count": 4,
   "id": "0ba9dc75",
   "metadata": {},
   "outputs": [],
   "source": [
    "# 2. In the interactive interpreter, import the zoo module as menagerie and call its hours() function."
   ]
  },
  {
   "cell_type": "code",
   "execution_count": 5,
   "id": "ab66cda2",
   "metadata": {},
   "outputs": [],
   "source": [
    "# import zoo as menagerie"
   ]
  },
  {
   "cell_type": "code",
   "execution_count": 6,
   "id": "9668978a",
   "metadata": {},
   "outputs": [],
   "source": [
    "#menagerie.hourse()"
   ]
  },
  {
   "cell_type": "code",
   "execution_count": 7,
   "id": "083cac66",
   "metadata": {},
   "outputs": [],
   "source": [
    "# 3. Using the interpreter, explicitly import and call the hours() function from zoo."
   ]
  },
  {
   "cell_type": "code",
   "execution_count": 8,
   "id": "8900da9a",
   "metadata": {},
   "outputs": [],
   "source": [
    "# from zoo import hours\n",
    "# hours()"
   ]
  },
  {
   "cell_type": "code",
   "execution_count": 9,
   "id": "04323bc4",
   "metadata": {},
   "outputs": [],
   "source": [
    "# 4. Import the hours() function as info and call it."
   ]
  },
  {
   "cell_type": "code",
   "execution_count": 10,
   "id": "4bd4414c",
   "metadata": {},
   "outputs": [],
   "source": [
    "# from zoo import hoours as info\n",
    "# info()"
   ]
  },
  {
   "cell_type": "code",
   "execution_count": 11,
   "id": "4af4a11d",
   "metadata": {},
   "outputs": [],
   "source": [
    "# 5. Create a plain dictionary with the key-value pairs &#39;a&#39;: 1, &#39;b&#39;: 2, and &#39;c&#39;: 3, and print it out."
   ]
  },
  {
   "cell_type": "code",
   "execution_count": 12,
   "id": "0fd0fa52",
   "metadata": {},
   "outputs": [],
   "source": [
    "# plain = {'a': 1, 'b': 2, 'c': 3}\n",
    "#plain"
   ]
  },
  {
   "cell_type": "code",
   "execution_count": 13,
   "id": "d5b59143",
   "metadata": {},
   "outputs": [],
   "source": [
    "#6.Make an OrderedDict called fancy from the same pairs listed in 5 and print it. Did it print in the\n",
    "#same order as plain?"
   ]
  },
  {
   "cell_type": "code",
   "execution_count": 14,
   "id": "6b8b78a3",
   "metadata": {},
   "outputs": [],
   "source": [
    "# from collections import OrderedDict\n",
    "# fancy = OrderedDict([('a', 1), ('b',2), ('c', 3)])\n",
    "# fancy"
   ]
  },
  {
   "cell_type": "code",
   "execution_count": 15,
   "id": "b0c8e049",
   "metadata": {},
   "outputs": [],
   "source": [
    "# 7. Make a default dictionary called dict_of_lists and pass it the argument list. Make the list\n",
    "#dict_of_lists[&#39;a&#39;] and append the value &#39;something for a&#39; to it in one assignment. Print\n",
    "#dict_of_lists[&#39;a&#39;]."
   ]
  },
  {
   "cell_type": "code",
   "execution_count": 16,
   "id": "6ab5dfa7",
   "metadata": {},
   "outputs": [],
   "source": [
    "# from collections import defaultdict\n",
    "# dict_of_lists = defaultdict(list)\n",
    "# dict_of_lists['a'].append('something for a')\n",
    "# dict_of_lists['a']"
   ]
  },
  {
   "cell_type": "code",
   "execution_count": null,
   "id": "555e0de8",
   "metadata": {},
   "outputs": [],
   "source": []
  }
 ],
 "metadata": {
  "kernelspec": {
   "display_name": "Python 3 (ipykernel)",
   "language": "python",
   "name": "python3"
  },
  "language_info": {
   "codemirror_mode": {
    "name": "ipython",
    "version": 3
   },
   "file_extension": ".py",
   "mimetype": "text/x-python",
   "name": "python",
   "nbconvert_exporter": "python",
   "pygments_lexer": "ipython3",
   "version": "3.9.12"
  }
 },
 "nbformat": 4,
 "nbformat_minor": 5
}
