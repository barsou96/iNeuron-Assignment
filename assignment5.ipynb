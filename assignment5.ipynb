{
 "cells": [
  {
   "cell_type": "code",
   "execution_count": 1,
   "id": "0f404798",
   "metadata": {},
   "outputs": [],
   "source": [
    "# 1. What does an empty dictionary's code look like?"
   ]
  },
  {
   "cell_type": "code",
   "execution_count": 2,
   "id": "a299dd9f",
   "metadata": {},
   "outputs": [],
   "source": [
    "# To create an empty dictionary, the dictionary should be set to {}"
   ]
  },
  {
   "cell_type": "code",
   "execution_count": 3,
   "id": "0d6bcd50",
   "metadata": {},
   "outputs": [],
   "source": [
    "# 2. What is the value of a dictionary value with the key 'foo' and the value 42?"
   ]
  },
  {
   "cell_type": "code",
   "execution_count": 6,
   "id": "2480c32e",
   "metadata": {},
   "outputs": [],
   "source": [
    "dictiionary = {'foo':42}"
   ]
  },
  {
   "cell_type": "code",
   "execution_count": 7,
   "id": "929c4fd2",
   "metadata": {},
   "outputs": [],
   "source": [
    "# 3. What is the most significant distinction between a dictionary and a list?"
   ]
  },
  {
   "cell_type": "code",
   "execution_count": 8,
   "id": "fed90b85",
   "metadata": {},
   "outputs": [],
   "source": [
    "# Lists are an array of values and can be ordered and accessed. Dictionaries are a key value store. Accessing a list is fast."
   ]
  },
  {
   "cell_type": "code",
   "execution_count": 9,
   "id": "44e0f3d6",
   "metadata": {},
   "outputs": [],
   "source": [
    "# 4. What happens if you try to access spam['foo'] if spam is {'bar': 100}?"
   ]
  },
  {
   "cell_type": "code",
   "execution_count": 10,
   "id": "4d6a0d29",
   "metadata": {},
   "outputs": [],
   "source": [
    "# The key 'foo' is not defined, so the program fails."
   ]
  },
  {
   "cell_type": "code",
   "execution_count": 11,
   "id": "e81f3d48",
   "metadata": {},
   "outputs": [],
   "source": [
    "# 5. If a dictionary is stored in spam, what is the difference between the expressions 'cat' in spam and 'cat' in spam.keys()?"
   ]
  },
  {
   "cell_type": "code",
   "execution_count": 15,
   "id": "6af6d87a",
   "metadata": {},
   "outputs": [
    {
     "data": {
      "text/plain": [
       "True"
      ]
     },
     "execution_count": 15,
     "metadata": {},
     "output_type": "execute_result"
    }
   ],
   "source": [
    "spam = {'cat':100}\n",
    "'cat' in spam"
   ]
  },
  {
   "cell_type": "code",
   "execution_count": 17,
   "id": "f5f0509a",
   "metadata": {},
   "outputs": [
    {
     "data": {
      "text/plain": [
       "True"
      ]
     },
     "execution_count": 17,
     "metadata": {},
     "output_type": "execute_result"
    }
   ],
   "source": [
    "'cat' in spam.keys() # there is no difference"
   ]
  },
  {
   "cell_type": "code",
   "execution_count": 18,
   "id": "18f33950",
   "metadata": {},
   "outputs": [],
   "source": [
    "# 6. If a dictionary is stored in spam, what is the difference between the expressions 'cat' in spam and 'cat' in spam.values()?"
   ]
  },
  {
   "cell_type": "code",
   "execution_count": 19,
   "id": "fdc48236",
   "metadata": {},
   "outputs": [
    {
     "data": {
      "text/plain": [
       "True"
      ]
     },
     "execution_count": 19,
     "metadata": {},
     "output_type": "execute_result"
    }
   ],
   "source": [
    "spam = {'cat':100}\n",
    "'cat' in spam"
   ]
  },
  {
   "cell_type": "code",
   "execution_count": 20,
   "id": "127b121f",
   "metadata": {},
   "outputs": [
    {
     "data": {
      "text/plain": [
       "False"
      ]
     },
     "execution_count": 20,
     "metadata": {},
     "output_type": "execute_result"
    }
   ],
   "source": [
    "spam = {'cat':100}\n",
    "'cat' in spam.values()"
   ]
  },
  {
   "cell_type": "code",
   "execution_count": 21,
   "id": "0fed65ce",
   "metadata": {},
   "outputs": [],
   "source": [
    "# 'cat' in spam checks whether there is a 'cat' key in the dictionary\n",
    "# 'cat' in spam.values() checks whether there is a value 'cat' for one of the keys"
   ]
  },
  {
   "cell_type": "code",
   "execution_count": 22,
   "id": "e59c7ca8",
   "metadata": {},
   "outputs": [],
   "source": [
    "# 7. What is a shortcut for the following code?\n",
    "#if 'color' not in spam:\n",
    "#spam['color'] = 'black'\n"
   ]
  },
  {
   "cell_type": "code",
   "execution_count": 23,
   "id": "143e7173",
   "metadata": {},
   "outputs": [
    {
     "data": {
      "text/plain": [
       "'black'"
      ]
     },
     "execution_count": 23,
     "metadata": {},
     "output_type": "execute_result"
    }
   ],
   "source": [
    "spam.setdefault('color','black')"
   ]
  },
  {
   "cell_type": "code",
   "execution_count": 24,
   "id": "1bb56015",
   "metadata": {},
   "outputs": [],
   "source": [
    "if 'color' not in spam:\n",
    "    spam['color'] = 'black'"
   ]
  },
  {
   "cell_type": "code",
   "execution_count": 25,
   "id": "8d9efccb",
   "metadata": {},
   "outputs": [
    {
     "data": {
      "text/plain": [
       "{'cat': 100, 'color': 'black'}"
      ]
     },
     "execution_count": 25,
     "metadata": {},
     "output_type": "execute_result"
    }
   ],
   "source": [
    "spam"
   ]
  },
  {
   "cell_type": "code",
   "execution_count": 26,
   "id": "696666e6",
   "metadata": {},
   "outputs": [],
   "source": [
    "# 8. How do you \"pretty print\" dictionary values using which module and function?"
   ]
  },
  {
   "cell_type": "code",
   "execution_count": 29,
   "id": "62078707",
   "metadata": {},
   "outputs": [],
   "source": [
    "import pprint\n",
    "dct = [  {'Name': 'Rocky', 'Age':'25', 'Country': 'India'},\n",
    "       {'Name':'Roosie', 'Age':'32', 'Country':'Belgium'},\n",
    "       {'Name':'Rick', 'Age':'34', 'Country':'America'},\n",
    "       {'Name':'Aisha','Age':'26', 'Country':'Italy'}\n",
    "      ]"
   ]
  },
  {
   "cell_type": "code",
   "execution_count": 32,
   "id": "32768a5a",
   "metadata": {},
   "outputs": [
    {
     "name": "stdout",
     "output_type": "stream",
     "text": [
      "[{'Age': '25', 'Country': 'India', 'Name': 'Rocky'},\n",
      " {'Age': '32', 'Country': 'Belgium', 'Name': 'Roosie'},\n",
      " {'Age': '34', 'Country': 'America', 'Name': 'Rick'},\n",
      " {'Age': '26', 'Country': 'Italy', 'Name': 'Aisha'}]\n"
     ]
    }
   ],
   "source": [
    "pprint.pprint(dct)"
   ]
  },
  {
   "cell_type": "code",
   "execution_count": null,
   "id": "4bf24540",
   "metadata": {},
   "outputs": [],
   "source": []
  }
 ],
 "metadata": {
  "kernelspec": {
   "display_name": "Python 3 (ipykernel)",
   "language": "python",
   "name": "python3"
  },
  "language_info": {
   "codemirror_mode": {
    "name": "ipython",
    "version": 3
   },
   "file_extension": ".py",
   "mimetype": "text/x-python",
   "name": "python",
   "nbconvert_exporter": "python",
   "pygments_lexer": "ipython3",
   "version": "3.9.12"
  }
 },
 "nbformat": 4,
 "nbformat_minor": 5
}
