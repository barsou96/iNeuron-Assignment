{
 "cells": [
  {
   "cell_type": "code",
   "execution_count": 1,
   "id": "4c3d2fd3",
   "metadata": {},
   "outputs": [],
   "source": [
    "#1. Add the current date to the text file today.txt as a string."
   ]
  },
  {
   "cell_type": "code",
   "execution_count": 3,
   "id": "047be966",
   "metadata": {},
   "outputs": [],
   "source": [
    "from datetime import date\n",
    "now = date.today()\n",
    "now_str = now.isoformat()\n",
    "with open('today', 'wt') as output:\n",
    "    print(now_str, file=output)"
   ]
  },
  {
   "cell_type": "code",
   "execution_count": 4,
   "id": "a783bee4",
   "metadata": {},
   "outputs": [],
   "source": [
    "# 2. Read the text file today.txt into the string today_string"
   ]
  },
  {
   "cell_type": "code",
   "execution_count": 5,
   "id": "401d3702",
   "metadata": {},
   "outputs": [],
   "source": [
    "with open('today', 'rt') as input:\n",
    "    today_string = input.read()"
   ]
  },
  {
   "cell_type": "code",
   "execution_count": 6,
   "id": "fb2aa872",
   "metadata": {},
   "outputs": [
    {
     "data": {
      "text/plain": [
       "'2022-08-27\\n'"
      ]
     },
     "execution_count": 6,
     "metadata": {},
     "output_type": "execute_result"
    }
   ],
   "source": [
    "today_string"
   ]
  },
  {
   "cell_type": "code",
   "execution_count": 7,
   "id": "8ae85b41",
   "metadata": {},
   "outputs": [],
   "source": [
    "# 3. Parse the date from today_string."
   ]
  },
  {
   "cell_type": "code",
   "execution_count": 9,
   "id": "a1c311c7",
   "metadata": {},
   "outputs": [],
   "source": [
    "fmt = '%Y-%m-%d\\n'"
   ]
  },
  {
   "cell_type": "code",
   "execution_count": 10,
   "id": "f0d2996c",
   "metadata": {},
   "outputs": [],
   "source": [
    "# 4. List the files in your current directory"
   ]
  },
  {
   "cell_type": "code",
   "execution_count": 11,
   "id": "12bf406e",
   "metadata": {},
   "outputs": [],
   "source": [
    "import os"
   ]
  },
  {
   "cell_type": "code",
   "execution_count": 12,
   "id": "61e08ef1",
   "metadata": {},
   "outputs": [
    {
     "data": {
      "text/plain": [
       "['.conda',\n",
       " '.ipynb_checkpoints',\n",
       " '.ipython',\n",
       " '.jupyter',\n",
       " 'anaconda3',\n",
       " 'AppData',\n",
       " 'Application Data',\n",
       " 'Assignment20.ipynb',\n",
       " 'Assignment21.ipynb',\n",
       " 'Contacts',\n",
       " 'Cookies',\n",
       " 'Desktop',\n",
       " 'Documents',\n",
       " 'Downloads',\n",
       " 'Favorites',\n",
       " 'IntelGraphicsProfiles',\n",
       " 'Links',\n",
       " 'Local Settings',\n",
       " 'Music',\n",
       " 'My Documents',\n",
       " 'NetHood',\n",
       " 'NTUSER.DAT',\n",
       " 'ntuser.dat.LOG1',\n",
       " 'ntuser.dat.LOG2',\n",
       " 'NTUSER.DAT{1c2b59c5-c5f5-11eb-bacb-000d3a96488e}.TxR.0.regtrans-ms',\n",
       " 'NTUSER.DAT{1c2b59c5-c5f5-11eb-bacb-000d3a96488e}.TxR.1.regtrans-ms',\n",
       " 'NTUSER.DAT{1c2b59c5-c5f5-11eb-bacb-000d3a96488e}.TxR.2.regtrans-ms',\n",
       " 'NTUSER.DAT{1c2b59c5-c5f5-11eb-bacb-000d3a96488e}.TxR.blf',\n",
       " 'NTUSER.DAT{1c2b59c6-c5f5-11eb-bacb-000d3a96488e}.TM.blf',\n",
       " 'NTUSER.DAT{1c2b59c6-c5f5-11eb-bacb-000d3a96488e}.TMContainer00000000000000000001.regtrans-ms',\n",
       " 'NTUSER.DAT{1c2b59c6-c5f5-11eb-bacb-000d3a96488e}.TMContainer00000000000000000002.regtrans-ms',\n",
       " 'ntuser.ini',\n",
       " 'OneDrive',\n",
       " 'Pictures',\n",
       " 'PrintHood',\n",
       " 'PycharmProjects',\n",
       " 'Recent',\n",
       " 'Saved Games',\n",
       " 'Searches',\n",
       " 'SendTo',\n",
       " 'Start Menu',\n",
       " 'Templates',\n",
       " 'today',\n",
       " 'Videos']"
      ]
     },
     "execution_count": 12,
     "metadata": {},
     "output_type": "execute_result"
    }
   ],
   "source": [
    "os.listdir('.')"
   ]
  },
  {
   "cell_type": "code",
   "execution_count": 13,
   "id": "728a357b",
   "metadata": {},
   "outputs": [],
   "source": [
    "# 5. Create a list of all of the files in your parent directory (minimum five files should be available)."
   ]
  },
  {
   "cell_type": "code",
   "execution_count": 14,
   "id": "c216d90d",
   "metadata": {},
   "outputs": [],
   "source": [
    "import os\n"
   ]
  },
  {
   "cell_type": "code",
   "execution_count": 15,
   "id": "f64a2cc6",
   "metadata": {},
   "outputs": [
    {
     "data": {
      "text/plain": [
       "['All Users', 'Default', 'Default User', 'desktop.ini', 'HP', 'Public']"
      ]
     },
     "execution_count": 15,
     "metadata": {},
     "output_type": "execute_result"
    }
   ],
   "source": [
    "os.listdir('..')"
   ]
  },
  {
   "cell_type": "code",
   "execution_count": 16,
   "id": "88d4ae0d",
   "metadata": {},
   "outputs": [],
   "source": [
    "# 6. Use multiprocessing to create three separate processes. Make each one wait a random number of\n",
    "#seconds between one and five, print the current time, and then exit."
   ]
  },
  {
   "cell_type": "code",
   "execution_count": 17,
   "id": "4f6a174d",
   "metadata": {},
   "outputs": [],
   "source": [
    "#import multiprocessing\n",
    "#def now(seconds): from datetime import datetime from time import sleep sleep(seconds) print('wait', seconds, time is, 'datetime.utcnow())')\n",
    "# if name == 'main':import random for n in range(3): seconds = random.random() proc = nultiprocessing.Process(target=now,args=(seconds))procstart()"
   ]
  },
  {
   "cell_type": "code",
   "execution_count": 18,
   "id": "8c2a3899",
   "metadata": {},
   "outputs": [],
   "source": [
    "# 7. Create a date object of your day of birth."
   ]
  },
  {
   "cell_type": "code",
   "execution_count": 22,
   "id": "8885432e",
   "metadata": {},
   "outputs": [],
   "source": [
    "my_day = date(1995, 7, 12)"
   ]
  },
  {
   "cell_type": "code",
   "execution_count": 23,
   "id": "46827ebd",
   "metadata": {},
   "outputs": [
    {
     "data": {
      "text/plain": [
       "datetime.date(1995, 7, 12)"
      ]
     },
     "execution_count": 23,
     "metadata": {},
     "output_type": "execute_result"
    }
   ],
   "source": [
    "my_day"
   ]
  },
  {
   "cell_type": "code",
   "execution_count": 24,
   "id": "d6c38984",
   "metadata": {},
   "outputs": [],
   "source": [
    "# 8. What day of the week was your day of birth?"
   ]
  },
  {
   "cell_type": "code",
   "execution_count": 25,
   "id": "743839ac",
   "metadata": {},
   "outputs": [
    {
     "data": {
      "text/plain": [
       "2"
      ]
     },
     "execution_count": 25,
     "metadata": {},
     "output_type": "execute_result"
    }
   ],
   "source": [
    "my_day.weekday()"
   ]
  },
  {
   "cell_type": "code",
   "execution_count": 26,
   "id": "35605263",
   "metadata": {},
   "outputs": [
    {
     "data": {
      "text/plain": [
       "3"
      ]
     },
     "execution_count": 26,
     "metadata": {},
     "output_type": "execute_result"
    }
   ],
   "source": [
    "my_day.isoweekday()"
   ]
  },
  {
   "cell_type": "code",
   "execution_count": 27,
   "id": "c8e2bc93",
   "metadata": {},
   "outputs": [],
   "source": [
    "# 9. When will you be (or when were you) 10,000 days old?"
   ]
  },
  {
   "cell_type": "code",
   "execution_count": 28,
   "id": "f03dd586",
   "metadata": {},
   "outputs": [],
   "source": [
    "from datetime import timedelta"
   ]
  },
  {
   "cell_type": "code",
   "execution_count": 29,
   "id": "03542089",
   "metadata": {},
   "outputs": [],
   "source": [
    "party_day = my_day + timedelta(days=10000)"
   ]
  },
  {
   "cell_type": "code",
   "execution_count": 30,
   "id": "33ab061e",
   "metadata": {},
   "outputs": [
    {
     "data": {
      "text/plain": [
       "datetime.date(2022, 11, 27)"
      ]
     },
     "execution_count": 30,
     "metadata": {},
     "output_type": "execute_result"
    }
   ],
   "source": [
    "party_day"
   ]
  },
  {
   "cell_type": "code",
   "execution_count": null,
   "id": "59122da1",
   "metadata": {},
   "outputs": [],
   "source": []
  }
 ],
 "metadata": {
  "kernelspec": {
   "display_name": "Python 3 (ipykernel)",
   "language": "python",
   "name": "python3"
  },
  "language_info": {
   "codemirror_mode": {
    "name": "ipython",
    "version": 3
   },
   "file_extension": ".py",
   "mimetype": "text/x-python",
   "name": "python",
   "nbconvert_exporter": "python",
   "pygments_lexer": "ipython3",
   "version": "3.9.12"
  }
 },
 "nbformat": 4,
 "nbformat_minor": 5
}
