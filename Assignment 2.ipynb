{
 "cells": [
  {
   "cell_type": "code",
   "execution_count": 1,
   "id": "a9a6ef06",
   "metadata": {},
   "outputs": [],
   "source": [
    "# Q1 What are the two values of the Boolean data type? How do you write them?"
   ]
  },
  {
   "cell_type": "raw",
   "id": "c2df3ea3",
   "metadata": {},
   "source": [
    "Python boolean type is one of python's built in data types. It is used to represent the truth value of an expression \n",
    " Declaring variables\n",
    "a = 10\n",
    "b = 20\n",
    " Comparing Variables\n",
    "print(a == b)\n",
    "output:\n",
    "False"
   ]
  },
  {
   "cell_type": "raw",
   "id": "0609bbaf",
   "metadata": {},
   "source": [
    "# Q2 What are the three different types of Boolean operators?\n"
   ]
  },
  {
   "cell_type": "raw",
   "id": "d606a95c",
   "metadata": {},
   "source": [
    "The three basic boolean operators are: AND, OR, and NOT"
   ]
  },
  {
   "cell_type": "code",
   "execution_count": 4,
   "id": "ac57e6de",
   "metadata": {},
   "outputs": [],
   "source": [
    "# 3. Make a list of each Boolean operator's\n",
    "# truth tables (i.e. every possible combination of Boolean values for the operator and what it evaluate )."
   ]
  },
  {
   "cell_type": "raw",
   "id": "de361ea7",
   "metadata": {},
   "source": [
    "Boolean operators form the basis of mathematical sets and database logic. The three basic boolean operators are \n",
    "AND, OR and NOT.\n",
    "True and True is True.\n",
    "True and False is False.\n",
    "False and True is False.\n",
    "False and False is False.\n",
    "True or True is True.\n",
    "True or False is True.\n",
    "False or True is True.\n",
    "False or False is False.\n",
    "not True is False.\n",
    "not False is True.\n"
   ]
  },
  {
   "cell_type": "code",
   "execution_count": null,
   "id": "7a8756b1",
   "metadata": {},
   "outputs": [],
   "source": [
    "4. What are the values of the following expressions?\n",
    "(5 > 4) and (3 == 5)\n",
    "not (5 > 4)\n",
    "(5 > 4) or (3 == 5)\n",
    "not ((5 > 4) or (3 == 5))\n",
    "(True and True) and (True == False)\n",
    "(not False) or (not True)\n"
   ]
  },
  {
   "cell_type": "code",
   "execution_count": 5,
   "id": "fb5d23f2",
   "metadata": {},
   "outputs": [
    {
     "data": {
      "text/plain": [
       "False"
      ]
     },
     "execution_count": 5,
     "metadata": {},
     "output_type": "execute_result"
    }
   ],
   "source": [
    "(5 > 4) and (3 == 5)"
   ]
  },
  {
   "cell_type": "code",
   "execution_count": 6,
   "id": "3bebd4cf",
   "metadata": {},
   "outputs": [
    {
     "data": {
      "text/plain": [
       "False"
      ]
     },
     "execution_count": 6,
     "metadata": {},
     "output_type": "execute_result"
    }
   ],
   "source": [
    "not (5 > 4)"
   ]
  },
  {
   "cell_type": "code",
   "execution_count": 7,
   "id": "9bde6591",
   "metadata": {},
   "outputs": [
    {
     "data": {
      "text/plain": [
       "True"
      ]
     },
     "execution_count": 7,
     "metadata": {},
     "output_type": "execute_result"
    }
   ],
   "source": [
    "(5 > 4) or (3 == 5)"
   ]
  },
  {
   "cell_type": "code",
   "execution_count": 8,
   "id": "e2216d4c",
   "metadata": {},
   "outputs": [
    {
     "data": {
      "text/plain": [
       "False"
      ]
     },
     "execution_count": 8,
     "metadata": {},
     "output_type": "execute_result"
    }
   ],
   "source": [
    "not ((5 > 4) or (3 == 5))"
   ]
  },
  {
   "cell_type": "code",
   "execution_count": 9,
   "id": "50d08dbb",
   "metadata": {},
   "outputs": [
    {
     "data": {
      "text/plain": [
       "False"
      ]
     },
     "execution_count": 9,
     "metadata": {},
     "output_type": "execute_result"
    }
   ],
   "source": [
    "(True and True) and (True == False)"
   ]
  },
  {
   "cell_type": "code",
   "execution_count": 10,
   "id": "8fba50d4",
   "metadata": {},
   "outputs": [
    {
     "data": {
      "text/plain": [
       "True"
      ]
     },
     "execution_count": 10,
     "metadata": {},
     "output_type": "execute_result"
    }
   ],
   "source": [
    "(not False) or (not True)"
   ]
  },
  {
   "cell_type": "code",
   "execution_count": 11,
   "id": "77b3e221",
   "metadata": {},
   "outputs": [],
   "source": [
    "# 5. What are the six comparison operators?"
   ]
  },
  {
   "cell_type": "raw",
   "id": "ab75eb50",
   "metadata": {},
   "source": [
    "Python has six comparison operators, which are as follows:\n",
    "Less than ( < )\n",
    "Less than or equal to ( <= )\n",
    "Greater than ( > )\n",
    "Greater than or equal to ( >= )\n",
    "Equal to ( == )\n",
    "Not equal to ( != )"
   ]
  },
  {
   "cell_type": "code",
   "execution_count": 12,
   "id": "38148bb8",
   "metadata": {},
   "outputs": [],
   "source": [
    "# 6. How do you tell the difference between the equal to and assignment operators?\n",
    "#Describe a condition and when you would use one."
   ]
  },
  {
   "cell_type": "raw",
   "id": "62dbc1e5",
   "metadata": {},
   "source": [
    "The \"=\" is an assignment operator is used to assign the value on the right to the variable on the left. \n",
    "The '==' operator checks whether the two given operands are equal or not. If so, it rerturns true.\n"
   ]
  },
  {
   "cell_type": "code",
   "execution_count": 13,
   "id": "3aaedf21",
   "metadata": {},
   "outputs": [
    {
     "data": {
      "text/plain": [
       "False"
      ]
     },
     "execution_count": 13,
     "metadata": {},
     "output_type": "execute_result"
    }
   ],
   "source": [
    "a = 'Ramesh'\n",
    "b = 'Suresh'\n",
    "a == b"
   ]
  },
  {
   "cell_type": "code",
   "execution_count": null,
   "id": "9db2192b",
   "metadata": {},
   "outputs": [],
   "source": [
    "# 7. Identify the three blocks in this code:\n",
    "spam = 0\n",
    "if spam == 10:\n",
    "print('eggs')\n",
    "if spam > 5:\n",
    "print('bacon')\n",
    "else:\n",
    "print('ham')\n",
    "print('spam')\n",
    "print('spam')\n"
   ]
  },
  {
   "cell_type": "raw",
   "id": "61f93b06",
   "metadata": {},
   "source": [
    "# the three blocks in this code are\n",
    "block1 = print('eggs')\n",
    "block2 = print('bacon')\n",
    "block3 = print('ham')\n"
   ]
  },
  {
   "cell_type": "code",
   "execution_count": 14,
   "id": "5c9da107",
   "metadata": {},
   "outputs": [],
   "source": [
    "# 8. Write code that prints Hello if 1 is stored in spam, \n",
    "# prints Howdy if 2 is stored in spam, and prints Greetings! if anything else is stored in spam."
   ]
  },
  {
   "cell_type": "code",
   "execution_count": 20,
   "id": "a5d448d7",
   "metadata": {},
   "outputs": [
    {
     "name": "stdout",
     "output_type": "stream",
     "text": [
      "Input value of spam\n",
      "2\n",
      "Howdy\n"
     ]
    }
   ],
   "source": [
    "print(\"Input value of spam\")\n",
    "spam = int(input())\n",
    "if spam == 1:\n",
    "    print('Hello')\n",
    "elif spam == 2:\n",
    "    print('Howdy')\n",
    "else:\n",
    "    print('Greetings')"
   ]
  },
  {
   "cell_type": "code",
   "execution_count": 21,
   "id": "8f068bb0",
   "metadata": {},
   "outputs": [],
   "source": [
    "# 9.If your programme is stuck in an endless loop, what keys you’ll press?"
   ]
  },
  {
   "cell_type": "code",
   "execution_count": 23,
   "id": "ee671f02",
   "metadata": {},
   "outputs": [],
   "source": [
    "#CTRL+C"
   ]
  },
  {
   "cell_type": "code",
   "execution_count": 24,
   "id": "111c4f9a",
   "metadata": {},
   "outputs": [],
   "source": [
    "# 10. How can you tell the difference between break and continue?"
   ]
  },
  {
   "cell_type": "code",
   "execution_count": 25,
   "id": "7853a661",
   "metadata": {},
   "outputs": [],
   "source": [
    "# The python break statement stops the loop in which the statement is placed. A python continue statement skips a single \n",
    "# iteration in a loop."
   ]
  },
  {
   "cell_type": "code",
   "execution_count": 26,
   "id": "fc42741e",
   "metadata": {},
   "outputs": [],
   "source": [
    "# 11. In a for loop, what is the difference between range(10), range(0, 10), and range(0, 10, 1)?"
   ]
  },
  {
   "cell_type": "code",
   "execution_count": 30,
   "id": "5d47760c",
   "metadata": {},
   "outputs": [],
   "source": [
    "# there is no difference bw range(10), range(0,10), and range(0,10,1)"
   ]
  },
  {
   "cell_type": "code",
   "execution_count": 31,
   "id": "6732158c",
   "metadata": {},
   "outputs": [],
   "source": [
    "# 12. Write a short program that prints the numbers 1 to 10 using a for loop.\n",
    "#Then write an equivalent program that prints the numbers 1 to 10 using a while loop."
   ]
  },
  {
   "cell_type": "code",
   "execution_count": 32,
   "id": "78a6a719",
   "metadata": {},
   "outputs": [
    {
     "name": "stdout",
     "output_type": "stream",
     "text": [
      "1\n",
      "2\n",
      "3\n",
      "4\n",
      "5\n",
      "6\n",
      "7\n",
      "8\n",
      "9\n",
      "10\n"
     ]
    }
   ],
   "source": [
    "for i in range(1, 11):\n",
    "    print(i)"
   ]
  },
  {
   "cell_type": "code",
   "execution_count": 1,
   "id": "4771565a",
   "metadata": {},
   "outputs": [
    {
     "name": "stdout",
     "output_type": "stream",
     "text": [
      "1\n",
      "2\n",
      "3\n",
      "4\n",
      "5\n",
      "6\n",
      "7\n",
      "8\n",
      "9\n",
      "10\n"
     ]
    }
   ],
   "source": [
    "i = 1\n",
    "while(i<=10):\n",
    "    print(i)\n",
    "    i += 1"
   ]
  },
  {
   "cell_type": "code",
   "execution_count": 2,
   "id": "dbe50167",
   "metadata": {},
   "outputs": [],
   "source": [
    "# 13. If you had a function named bacon() inside a module named spam, how would you call it after importing spam?"
   ]
  },
  {
   "cell_type": "raw",
   "id": "7fdc50e4",
   "metadata": {},
   "source": [
    "If I had a function named bacon() inside a module named spam, this function I will call with spam.bacon()"
   ]
  },
  {
   "cell_type": "code",
   "execution_count": null,
   "id": "79cfdc3a",
   "metadata": {},
   "outputs": [],
   "source": []
  }
 ],
 "metadata": {
  "kernelspec": {
   "display_name": "Python 3 (ipykernel)",
   "language": "python",
   "name": "python3"
  },
  "language_info": {
   "codemirror_mode": {
    "name": "ipython",
    "version": 3
   },
   "file_extension": ".py",
   "mimetype": "text/x-python",
   "name": "python",
   "nbconvert_exporter": "python",
   "pygments_lexer": "ipython3",
   "version": "3.9.12"
  }
 },
 "nbformat": 4,
 "nbformat_minor": 5
}
