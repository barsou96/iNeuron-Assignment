{
 "cells": [
  {
   "cell_type": "code",
   "execution_count": 1,
   "id": "e6ba7827",
   "metadata": {},
   "outputs": [],
   "source": [
    "# 1. Why are functions advantageous to have in your programs?# "
   ]
  },
  {
   "cell_type": "code",
   "execution_count": 2,
   "id": "0b2be3d1",
   "metadata": {},
   "outputs": [],
   "source": [
    "# It helps to divide the large programs into small groups so that we can read the code, and debug the program faster nad better.\n",
    "# Python functions stop us from writing the same logic various times. We can bind the same logic in one def and then call\n",
    "# the same over and oveer."
   ]
  },
  {
   "cell_type": "code",
   "execution_count": 3,
   "id": "c2b8768f",
   "metadata": {},
   "outputs": [],
   "source": [
    "# 2. When does the code in a function run: when it's specified or when it's called?"
   ]
  },
  {
   "cell_type": "code",
   "execution_count": null,
   "id": "74472b8e",
   "metadata": {},
   "outputs": [],
   "source": [
    "# Defining a new function does not make the function run. To do that we need a function call.\n",
    "# Function calls contain the name of the function being executed followed by a list of values, called arguments, which are \n",
    "# assigned to the parameters in the function defination."
   ]
  },
  {
   "cell_type": "code",
   "execution_count": 4,
   "id": "0f82f11e",
   "metadata": {},
   "outputs": [],
   "source": [
    "# 3. What statement creates a function?"
   ]
  },
  {
   "cell_type": "code",
   "execution_count": 5,
   "id": "837b6ae1",
   "metadata": {},
   "outputs": [],
   "source": [
    "# The \"def\" keyword is a statement for defining a function in python."
   ]
  },
  {
   "cell_type": "code",
   "execution_count": 6,
   "id": "272c5972",
   "metadata": {},
   "outputs": [],
   "source": [
    "# 4. What is the difference between a function and a function call?"
   ]
  },
  {
   "cell_type": "code",
   "execution_count": null,
   "id": "cd0b4e31",
   "metadata": {},
   "outputs": [],
   "source": [
    "# A function is a piece of code which enhanced the reusability and modularity of your program. It means that piece of code \n",
    "# need not be written again.\n",
    "# A function call means invoking or calling that function. Unless a function is called there is no use of that function."
   ]
  },
  {
   "cell_type": "code",
   "execution_count": 7,
   "id": "a66d5a3f",
   "metadata": {},
   "outputs": [],
   "source": [
    "# 5. How many global scopes are there in a Python program? How many local scopes?"
   ]
  },
  {
   "cell_type": "code",
   "execution_count": null,
   "id": "c2d0019d",
   "metadata": {},
   "outputs": [],
   "source": [
    "# Functions provide a nested namespace (sometimes called a scope), which localizes the name they use, such that names inside \n",
    "# the function won't clash with those outside (in a module or other function). We usually say that functions define a local \n",
    "# scope, and modules define a global scope.\n",
    "# The two scopes are related as follows:\n",
    "# The enclosing module is global scope\n",
    "#         Each module is a global scope- a namespace where variables created (assigned) at the top level of a module file live.\n",
    "# Each call to a function is a new local scope\n",
    "#         Every time you call a function, you create a new local scope- a namespace where names created inside the functions\n",
    "#         usually live."
   ]
  },
  {
   "cell_type": "code",
   "execution_count": 8,
   "id": "583c6cb0",
   "metadata": {},
   "outputs": [],
   "source": [
    "# 6. What happens to variables in a local scope when the function call returns?"
   ]
  },
  {
   "cell_type": "code",
   "execution_count": 9,
   "id": "af409101",
   "metadata": {},
   "outputs": [],
   "source": [
    "# When the execution of the function terminates(returns), the local variables are destroyed."
   ]
  },
  {
   "cell_type": "code",
   "execution_count": 10,
   "id": "66a469a5",
   "metadata": {},
   "outputs": [],
   "source": [
    "# 7. What is the concept of a return value? Is it possible to have a return value in an expression?"
   ]
  },
  {
   "cell_type": "code",
   "execution_count": 12,
   "id": "c06da56c",
   "metadata": {},
   "outputs": [],
   "source": [
    "# A return statement is used to end the execution of the function call and \"returns\" the result to the caller.\n",
    "# The statements after the return statements are not executed. \n",
    "# It is not possible to have a return value in an expression because return statement cannot be used outside the function."
   ]
  },
  {
   "cell_type": "code",
   "execution_count": 13,
   "id": "e79807b2",
   "metadata": {},
   "outputs": [],
   "source": [
    "# 8. If a function does not have a return statement, what is the return value of a call to that function?"
   ]
  },
  {
   "cell_type": "code",
   "execution_count": 14,
   "id": "7c6d87f4",
   "metadata": {},
   "outputs": [],
   "source": [
    "# The function always return \"None\" if explicit return is not written."
   ]
  },
  {
   "cell_type": "code",
   "execution_count": 15,
   "id": "54082e15",
   "metadata": {},
   "outputs": [],
   "source": [
    "# 9. How do you make a function variable refer to the global variable?"
   ]
  },
  {
   "cell_type": "code",
   "execution_count": 16,
   "id": "a85670f1",
   "metadata": {},
   "outputs": [],
   "source": [
    "# Normally when we create a variable inside a function, that variable is local, and can only be used inside that function.\n",
    "# To create a global variable inside a function, you can use the Global keyword."
   ]
  },
  {
   "cell_type": "code",
   "execution_count": 17,
   "id": "af46c096",
   "metadata": {},
   "outputs": [],
   "source": [
    "# 10. What is the data type of None?"
   ]
  },
  {
   "cell_type": "code",
   "execution_count": 18,
   "id": "259a0eb0",
   "metadata": {},
   "outputs": [],
   "source": [
    "# None is used to define a null value. It is not the same as an empty string, false, or zero. It is a data type of the "
   ]
  },
  {
   "cell_type": "code",
   "execution_count": 19,
   "id": "5ebd9859",
   "metadata": {},
   "outputs": [],
   "source": [
    "# class NoneType object."
   ]
  },
  {
   "cell_type": "code",
   "execution_count": 20,
   "id": "d520a149",
   "metadata": {},
   "outputs": [],
   "source": [
    "# 11. What does the sentence import areallyourpetsnamederic do?"
   ]
  },
  {
   "cell_type": "code",
   "execution_count": 21,
   "id": "cdf192d3",
   "metadata": {},
   "outputs": [],
   "source": [
    "# This import statement imports a module named areallyourpetsnamederic."
   ]
  },
  {
   "cell_type": "code",
   "execution_count": 22,
   "id": "dca43adf",
   "metadata": {},
   "outputs": [],
   "source": [
    "# 12. If you had a bacon() feature in a spam module, what would you call it after importing spam?"
   ]
  },
  {
   "cell_type": "code",
   "execution_count": 23,
   "id": "bf3e6eb9",
   "metadata": {},
   "outputs": [],
   "source": [
    "# The function can be called with spam.bacon(), since from a module, we can call it global scope."
   ]
  },
  {
   "cell_type": "code",
   "execution_count": 24,
   "id": "7a7ef498",
   "metadata": {},
   "outputs": [],
   "source": [
    "# 13. What can you do to save a programme from crashing if it encounters an error?"
   ]
  },
  {
   "cell_type": "code",
   "execution_count": 26,
   "id": "453ac396",
   "metadata": {},
   "outputs": [],
   "source": [
    "# Adding extensive error handling is crucial when developing maintainable and robust code.\n",
    "# We need error handling because\n",
    "# i). Prevents program from crashing if an error occurs\n",
    "# ii). Saves time debugging errors\n",
    "# iii). Helps define requirements for the program"
   ]
  },
  {
   "cell_type": "code",
   "execution_count": 27,
   "id": "fecf7526",
   "metadata": {},
   "outputs": [],
   "source": [
    "# 14. What is the purpose of the try clause? What is the purpose of the except clause?"
   ]
  },
  {
   "cell_type": "code",
   "execution_count": null,
   "id": "37ffd1ce",
   "metadata": {},
   "outputs": [],
   "source": [
    "# Try and except statement is used to handle the errors within our code in python.\n",
    "# The try block is used to check some code for errors i.e. the code inside the try block will execute when there is no error\n",
    "# in the program. Whereas the code inside the except block will execute whenever the program encounters some error in the \n",
    "# preceeding try block."
   ]
  }
 ],
 "metadata": {
  "kernelspec": {
   "display_name": "Python 3 (ipykernel)",
   "language": "python",
   "name": "python3"
  },
  "language_info": {
   "codemirror_mode": {
    "name": "ipython",
    "version": 3
   },
   "file_extension": ".py",
   "mimetype": "text/x-python",
   "name": "python",
   "nbconvert_exporter": "python",
   "pygments_lexer": "ipython3",
   "version": "3.9.12"
  }
 },
 "nbformat": 4,
 "nbformat_minor": 5
}
