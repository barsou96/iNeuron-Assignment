{
 "cells": [
  {
   "cell_type": "code",
   "execution_count": 1,
   "id": "4ec4b880",
   "metadata": {},
   "outputs": [],
   "source": [
    "# . What is the result of the code, and why?\n",
    "#>>> def func(a, b=6, c=8):\n",
    "#print(a, b, c)"
   ]
  },
  {
   "cell_type": "code",
   "execution_count": 2,
   "id": "810d859b",
   "metadata": {},
   "outputs": [],
   "source": [
    "def func(a, b=6, c=8):\n",
    "    print(a,b,c)"
   ]
  },
  {
   "cell_type": "code",
   "execution_count": 3,
   "id": "448f35ae",
   "metadata": {},
   "outputs": [
    {
     "name": "stdout",
     "output_type": "stream",
     "text": [
      "1 2 8\n"
     ]
    }
   ],
   "source": [
    "func(1,2)"
   ]
  },
  {
   "cell_type": "code",
   "execution_count": 4,
   "id": "3687d53e",
   "metadata": {},
   "outputs": [],
   "source": [
    "# here as we have hardcoded and sent 2 values therefore preference is given to the input user gives. So a=1, b=2, c as by\n",
    "# default argument 8."
   ]
  },
  {
   "cell_type": "code",
   "execution_count": 5,
   "id": "dd48c7c6",
   "metadata": {},
   "outputs": [],
   "source": [
    "#2. What is the result of this code, and why?\n",
    "#>>> def func(a, b, c=5):\n",
    "#print(a, b, c)\n",
    "#>>> func(1, c=3, b=2)\n"
   ]
  },
  {
   "cell_type": "code",
   "execution_count": 6,
   "id": "a067499c",
   "metadata": {},
   "outputs": [
    {
     "name": "stdout",
     "output_type": "stream",
     "text": [
      "1 2 3\n"
     ]
    }
   ],
   "source": [
    "def func(a, b, c=5):\n",
    "    print(a, b, c)\n",
    "func(1, c=3, b=2)    \n"
   ]
  },
  {
   "cell_type": "code",
   "execution_count": 7,
   "id": "378ff6f4",
   "metadata": {},
   "outputs": [],
   "source": [
    "# here a =1, b=2(hardcoded by user),c=3(hardcoded by user). Position does not matter as long as we have mentioned the variable\n",
    "# to which value is assigned."
   ]
  },
  {
   "cell_type": "code",
   "execution_count": 8,
   "id": "08961bdb",
   "metadata": {},
   "outputs": [],
   "source": [
    "#3. How about this code: what is its result, and why?\n",
    "#>>> def func(a, *pargs):\n",
    "#print(a, pargs)\n",
    "#>>> func(1, 2, 3)"
   ]
  },
  {
   "cell_type": "code",
   "execution_count": 9,
   "id": "86181bb7",
   "metadata": {},
   "outputs": [
    {
     "name": "stdout",
     "output_type": "stream",
     "text": [
      "1 (2, 3)\n"
     ]
    }
   ],
   "source": [
    "def func(a, *pargs):\n",
    "    print(a, pargs)\n",
    "func(1,2,3)"
   ]
  },
  {
   "cell_type": "code",
   "execution_count": 10,
   "id": "19797af3",
   "metadata": {},
   "outputs": [],
   "source": [
    "# Here a=1. *pargs returns as many argument user gives as input in form of tuples."
   ]
  },
  {
   "cell_type": "code",
   "execution_count": 11,
   "id": "7d24b373",
   "metadata": {},
   "outputs": [],
   "source": [
    "#4. What does this code print, and why?\n",
    "#>>> def func(a, **kargs):\n",
    "#print(a, kargs)\n",
    "#>>> func(a=1, c=3, b=2)"
   ]
  },
  {
   "cell_type": "code",
   "execution_count": 12,
   "id": "0dea5931",
   "metadata": {},
   "outputs": [
    {
     "name": "stdout",
     "output_type": "stream",
     "text": [
      "1 {'c': 3, 'b': 2}\n"
     ]
    }
   ],
   "source": [
    "def func(a, **kargs):\n",
    "    print(a, kargs)\n",
    "func(a=1, c=3, b=2)"
   ]
  },
  {
   "cell_type": "code",
   "execution_count": 13,
   "id": "939cfe21",
   "metadata": {},
   "outputs": [],
   "source": [
    "# here a = 1, **kargs returns as many arguments user gives as input in form of dictionary."
   ]
  },
  {
   "cell_type": "code",
   "execution_count": 14,
   "id": "9c549f4b",
   "metadata": {},
   "outputs": [],
   "source": [
    "#5. What gets printed by this, and explain?\n",
    "#>>> def func(a, b, c=8, d=5): print(a, b, c, d)\n",
    "#>>> func(1, *(5, 6))"
   ]
  },
  {
   "cell_type": "code",
   "execution_count": 15,
   "id": "3f2b7750",
   "metadata": {},
   "outputs": [
    {
     "name": "stdout",
     "output_type": "stream",
     "text": [
      "1 5 6 5\n"
     ]
    }
   ],
   "source": [
    "def func(a, b, c=8, d=5):\n",
    "    print(a, b, c, d)\n",
    "func(1, *(5,6))"
   ]
  },
  {
   "cell_type": "code",
   "execution_count": 16,
   "id": "3843c371",
   "metadata": {},
   "outputs": [],
   "source": [
    "# here a=1, user input is given in the form of kargs. So as many variable is present that many times the value is passed as\n",
    "# kargs input will get printed. So here a =1, b=5, c=6, d=again 5."
   ]
  },
  {
   "cell_type": "code",
   "execution_count": 17,
   "id": "a85c8783",
   "metadata": {},
   "outputs": [],
   "source": [
    "#6. what is the result of this, and explain?\n",
    "#>>> def func(a, b, c): a = 2; b[0] = 'x'; c['a'] = 'y'\n",
    "#>>> l=1; m=[1]; n={'a':0}\n",
    "#>>> func(l, m, n)"
   ]
  },
  {
   "cell_type": "code",
   "execution_count": 18,
   "id": "d7c39444",
   "metadata": {},
   "outputs": [],
   "source": [
    "def func(a, b, c):\n",
    "    a = 2; b[0] = 'x'; c['a'] = 'y'"
   ]
  },
  {
   "cell_type": "code",
   "execution_count": 19,
   "id": "48c9c42c",
   "metadata": {},
   "outputs": [],
   "source": [
    "l = 1; m=[1]; n={'a':0}"
   ]
  },
  {
   "cell_type": "code",
   "execution_count": 20,
   "id": "874dc305",
   "metadata": {},
   "outputs": [],
   "source": [
    "func(l, m, n)"
   ]
  },
  {
   "cell_type": "code",
   "execution_count": 21,
   "id": "c542ea47",
   "metadata": {},
   "outputs": [
    {
     "data": {
      "text/plain": [
       "(1, ['x'], {'a': 'y'})"
      ]
     },
     "execution_count": 21,
     "metadata": {},
     "output_type": "execute_result"
    }
   ],
   "source": [
    "l, m, n"
   ]
  },
  {
   "cell_type": "code",
   "execution_count": null,
   "id": "150026c6",
   "metadata": {},
   "outputs": [],
   "source": [
    "here in func(l,m,n) we passed l=1(user input), m is passed as list contain 1 element i.e'x', n is passed as dictionary i.e{'a':'y'}"
   ]
  }
 ],
 "metadata": {
  "kernelspec": {
   "display_name": "Python 3 (ipykernel)",
   "language": "python",
   "name": "python3"
  },
  "language_info": {
   "codemirror_mode": {
    "name": "ipython",
    "version": 3
   },
   "file_extension": ".py",
   "mimetype": "text/x-python",
   "name": "python",
   "nbconvert_exporter": "python",
   "pygments_lexer": "ipython3",
   "version": "3.9.12"
  }
 },
 "nbformat": 4,
 "nbformat_minor": 5
}
