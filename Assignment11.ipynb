{
 "cells": [
  {
   "cell_type": "code",
   "execution_count": 1,
   "id": "40f2bd6d",
   "metadata": {},
   "outputs": [],
   "source": [
    "# 1. Create an assert statement that throws an AssertionError if the variable spam is a negative integer.\n"
   ]
  },
  {
   "cell_type": "code",
   "execution_count": null,
   "id": "a14adeba",
   "metadata": {},
   "outputs": [],
   "source": [
    "import pyinputplus as pyip\n",
    "spam = pyip.inputNum(\"Enter a positive number :\")\n",
    "assert spam > 0\n",
    "print(spam, 'is a positive number')"
   ]
  },
  {
   "cell_type": "code",
   "execution_count": 3,
   "id": "4bf7b1e4",
   "metadata": {},
   "outputs": [],
   "source": [
    "# 2 Write an assert statement that triggers an assertion error if the variables eggs and bacon contain strings that are the same as each other, \n",
    "# even if their cases are different (that is, 'hello' and 'hello' are considered the same, and 'goodbye' and 'GOODbye'\n",
    "#are also considered the same).\n"
   ]
  },
  {
   "cell_type": "code",
   "execution_count": null,
   "id": "d495b204",
   "metadata": {},
   "outputs": [],
   "source": [
    "eggs = 'Hello'\n",
    "bacon = 'hello'\n",
    "assert eggs.lower() != bacon.lower() or eggs.upper() != bacon.upper()\n",
    "print('The eggs and bacon variables are not the same!')"
   ]
  },
  {
   "cell_type": "code",
   "execution_count": null,
   "id": "02ef3518",
   "metadata": {},
   "outputs": [],
   "source": [
    "# 3. Create an assert statement that throws an AssertionError every time."
   ]
  },
  {
   "cell_type": "code",
   "execution_count": null,
   "id": "7a003971",
   "metadata": {},
   "outputs": [],
   "source": [
    "# assert False"
   ]
  },
  {
   "cell_type": "code",
   "execution_count": 4,
   "id": "a71d1f49",
   "metadata": {},
   "outputs": [],
   "source": [
    "# 4. What are the two lines that must be present in your software in order to call logging.debug()?"
   ]
  },
  {
   "cell_type": "code",
   "execution_count": 5,
   "id": "0ed7e3a6",
   "metadata": {},
   "outputs": [],
   "source": [
    "# To be able to call logging.debug(), we must have these two lines at the start of your program:\n",
    "# import logging\n",
    "# logging.basicConfig(level=logging.DEBUG, format='%(asctime)s -%(levelname)s - %(message)s')\n",
    "# import logging as lg\n",
    "# lg.basicConfig(level=lg.DEBUT, format='%(asctime)s - %(levelname)s -%(message)s')\n"
   ]
  },
  {
   "cell_type": "code",
   "execution_count": 1,
   "id": "bb5d58ed",
   "metadata": {},
   "outputs": [],
   "source": [
    "# 5. What are the two lines that your program must have in order to have logging.debug() send a logging message \n",
    "#to a file named programLog.txt?\n"
   ]
  },
  {
   "cell_type": "code",
   "execution_count": 2,
   "id": "123d8164",
   "metadata": {},
   "outputs": [],
   "source": [
    "# import logging as lg\n",
    "# lg.basicConfig(filename='programming.txt', level=lg.DEBUG, format='%(asctime)s - %(levelname)s - %(messgae)s')"
   ]
  },
  {
   "cell_type": "code",
   "execution_count": 3,
   "id": "fbbd3e67",
   "metadata": {},
   "outputs": [],
   "source": [
    "# 6. What are the five levels of logging?"
   ]
  },
  {
   "cell_type": "code",
   "execution_count": 4,
   "id": "56cad8f0",
   "metadata": {},
   "outputs": [],
   "source": [
    "# Five level of loggings are DEBUG, INFO, WARNING, ERROR and CRITICAL\n",
    "# logging.debug() - variable's state and small details\n",
    "# logging.info() - general events, confirm a program is working\n",
    "# logging.warning() - potential problem to work on in the future\n",
    "# logging.error() - record an error that caused program to fail to do something\n",
    "# logging.critical()- fatal error that has caused"
   ]
  },
  {
   "cell_type": "code",
   "execution_count": 5,
   "id": "1ff91927",
   "metadata": {},
   "outputs": [],
   "source": [
    "# 7. What line of code would you add to your software to disable all logging messages?\n"
   ]
  },
  {
   "cell_type": "code",
   "execution_count": 6,
   "id": "76c5892f",
   "metadata": {},
   "outputs": [],
   "source": [
    "# logging.disable(level) -> Disables all logging calls of severity 'level' and below. set level = logging.CRITICAL since\n",
    "# CRITICAL being the highest level, every other loggings will be disabled.\n",
    "# import logging as lg\n",
    "# lg.disable(lg.CRITICAL)"
   ]
  },
  {
   "cell_type": "code",
   "execution_count": 7,
   "id": "1ff91544",
   "metadata": {},
   "outputs": [],
   "source": [
    "# 8. Why is using logging messages better than using print() to display the same message?"
   ]
  },
  {
   "cell_type": "code",
   "execution_count": 8,
   "id": "6e60e2bb",
   "metadata": {},
   "outputs": [],
   "source": [
    "# You can disable logging messages without removing the logging function calls.\n",
    "# You can selectively disable lower-level logging messages.\n",
    "# You can create logging messages. logging messages provide a time stamp.\n"
   ]
  },
  {
   "cell_type": "code",
   "execution_count": 9,
   "id": "fa4fe2ea",
   "metadata": {},
   "outputs": [],
   "source": [
    "# 9. What are the differences between the Step Over, Step In and Step Out buttons in the debugger?\n"
   ]
  },
  {
   "cell_type": "code",
   "execution_count": 11,
   "id": "abe8eaa2",
   "metadata": {},
   "outputs": [],
   "source": [
    "# The step in button will move the debugger into a function call.\n",
    "# The over button will quickly execute the function call without stepping into it.\n",
    "# The Out button will quickly execute the rest of the code until it stps out of the function it currently is in."
   ]
  },
  {
   "cell_type": "code",
   "execution_count": 12,
   "id": "9c4bd959",
   "metadata": {},
   "outputs": [],
   "source": [
    "# 10. After you click Continue, when will the debugger stop?"
   ]
  },
  {
   "cell_type": "code",
   "execution_count": null,
   "id": "4451b4ed",
   "metadata": {},
   "outputs": [],
   "source": [
    "# It will stop at next breakpoint, if there are no further breakpoints program will be fully executed."
   ]
  }
 ],
 "metadata": {
  "kernelspec": {
   "display_name": "Python 3 (ipykernel)",
   "language": "python",
   "name": "python3"
  },
  "language_info": {
   "codemirror_mode": {
    "name": "ipython",
    "version": 3
   },
   "file_extension": ".py",
   "mimetype": "text/x-python",
   "name": "python",
   "nbconvert_exporter": "python",
   "pygments_lexer": "ipython3",
   "version": "3.9.12"
  }
 },
 "nbformat": 4,
 "nbformat_minor": 5
}
