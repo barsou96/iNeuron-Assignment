{
 "cells": [
  {
   "cell_type": "code",
   "execution_count": 1,
   "id": "9b914bfb",
   "metadata": {},
   "outputs": [],
   "source": [
    "# 1. How many seconds are in an hour? Use the interactive interpreter as a calculator and multiply the number of seconds\n",
    "# in a minute(60) by the number of minutes in ana hour (also 60)."
   ]
  },
  {
   "cell_type": "code",
   "execution_count": 2,
   "id": "59baa098",
   "metadata": {},
   "outputs": [],
   "source": [
    "# 60*60"
   ]
  },
  {
   "cell_type": "code",
   "execution_count": 3,
   "id": "dbb4783e",
   "metadata": {},
   "outputs": [],
   "source": [
    "# 2. Assign the result from the previous task (seconds in an hour) to a variable called seconds_per_hour."
   ]
  },
  {
   "cell_type": "code",
   "execution_count": 4,
   "id": "5b692989",
   "metadata": {},
   "outputs": [],
   "source": [
    "# seconds_per_hour = 60 * 60\n",
    "# seconds_per_hour"
   ]
  },
  {
   "cell_type": "code",
   "execution_count": 5,
   "id": "83946e3e",
   "metadata": {},
   "outputs": [],
   "source": [
    "# 3. How many seconds do you think there are in a day? Make use of the variables seconds per hour and minutes per hour."
   ]
  },
  {
   "cell_type": "code",
   "execution_count": 6,
   "id": "9647eaa4",
   "metadata": {},
   "outputs": [],
   "source": [
    "# one_day = 24\n",
    "# second_in_a_day = 24 * seconds_per_hour\n",
    "# second_in_a_day"
   ]
  },
  {
   "cell_type": "code",
   "execution_count": 7,
   "id": "aa6d8e44",
   "metadata": {},
   "outputs": [],
   "source": [
    "# 4. Calculate seconds per day again, but this time save the result in a variable called seconds_per_day"
   ]
  },
  {
   "cell_type": "code",
   "execution_count": 8,
   "id": "387f2d27",
   "metadata": {},
   "outputs": [],
   "source": [
    "# seconds_per_day = 24 * seconds_per_hour\n",
    "# seconds_per_day"
   ]
  },
  {
   "cell_type": "code",
   "execution_count": 9,
   "id": "02201da7",
   "metadata": {},
   "outputs": [],
   "source": [
    "# 5. divide seconds_per_day by seconds_per_hour. Use floating-point (/) division."
   ]
  },
  {
   "cell_type": "code",
   "execution_count": 10,
   "id": "efb4d170",
   "metadata": {},
   "outputs": [],
   "source": [
    "# seconds_per_day/seconds_per_hour"
   ]
  },
  {
   "cell_type": "code",
   "execution_count": 11,
   "id": "06685f9a",
   "metadata": {},
   "outputs": [],
   "source": [
    "# 6. Divide seconds_per_day by seconds_per_hour, using integer (//) division. Did this number agree with the floating-point\n",
    "# value from the previous question, aside from the final. 0?"
   ]
  },
  {
   "cell_type": "code",
   "execution_count": 12,
   "id": "053875e1",
   "metadata": {},
   "outputs": [],
   "source": [
    "# Yes"
   ]
  },
  {
   "cell_type": "code",
   "execution_count": 13,
   "id": "42cca333",
   "metadata": {},
   "outputs": [],
   "source": [
    "# 7. Write a generator, genPrimes, that returns the sequence of prime numbers on successive calls to its next() method:\n",
    "# 2,3,5,7,11,...."
   ]
  },
  {
   "cell_type": "code",
   "execution_count": null,
   "id": "b28eb55c",
   "metadata": {},
   "outputs": [],
   "source": [
    "# def genPrimes():\n",
    "#     n = 2\n",
    "#     primes = []\n",
    "#     while True:\n",
    "#         for p in primes:\n",
    "#             if n % p == 0:\n",
    "#               break\n",
    "#         else:\n",
    "#             primes.append(n)\n",
    "#             yield n\n",
    "#         n += 1\n"
   ]
  }
 ],
 "metadata": {
  "kernelspec": {
   "display_name": "Python 3 (ipykernel)",
   "language": "python",
   "name": "python3"
  },
  "language_info": {
   "codemirror_mode": {
    "name": "ipython",
    "version": 3
   },
   "file_extension": ".py",
   "mimetype": "text/x-python",
   "name": "python",
   "nbconvert_exporter": "python",
   "pygments_lexer": "ipython3",
   "version": "3.9.12"
  }
 },
 "nbformat": 4,
 "nbformat_minor": 5
}
