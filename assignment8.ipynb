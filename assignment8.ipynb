{
 "cells": [
  {
   "cell_type": "code",
   "execution_count": 1,
   "id": "148160a3",
   "metadata": {},
   "outputs": [],
   "source": [
    "# 1. Is the Python Standard Library included with PyInputPlus?\n"
   ]
  },
  {
   "cell_type": "code",
   "execution_count": 2,
   "id": "8f1ddc5d",
   "metadata": {},
   "outputs": [],
   "source": [
    "# PyInputPlus is not a part of the Python Standard Library, so you must install it separately using Pip."
   ]
  },
  {
   "cell_type": "code",
   "execution_count": 3,
   "id": "b9df5ee0",
   "metadata": {},
   "outputs": [],
   "source": [
    "# 2. Why is PyInputPlus commonly imported with import pyinputplus as pypi?\n"
   ]
  },
  {
   "cell_type": "code",
   "execution_count": 4,
   "id": "4133a0ba",
   "metadata": {},
   "outputs": [],
   "source": [
    "# We can import the module with import pyinputplus as pyip so that you can enter a shorter name when calling the module's \n",
    "# function. PyInputPlus has functions for entering a variety of input, including strings, numbers, dates, yes/no, True/False,\n",
    "# emails, and files."
   ]
  },
  {
   "cell_type": "code",
   "execution_count": 5,
   "id": "0a13f096",
   "metadata": {},
   "outputs": [],
   "source": [
    "# 3. How do you distinguish between inputInt() and inputFloat()?\n"
   ]
  },
  {
   "cell_type": "code",
   "execution_count": 7,
   "id": "6213285f",
   "metadata": {},
   "outputs": [],
   "source": [
    "# The inputInt() function returns an integer, while the inputFloat() function returns a float value.  The inputFloat() function \n",
    "# returns an integer, while the inputInt() function returns a float. The inputInt() function returns an integer, while the \n",
    "# inputFloat() function returns a string value."
   ]
  },
  {
   "cell_type": "code",
   "execution_count": 8,
   "id": "fb6fc652",
   "metadata": {},
   "outputs": [],
   "source": [
    "# 4. Using PyInputPlus, how do you ensure that the user enters a whole number between 0 and 99?\n"
   ]
  },
  {
   "cell_type": "code",
   "execution_count": 9,
   "id": "90d2197f",
   "metadata": {},
   "outputs": [],
   "source": [
    "# By using pyip.input(min=0, max=99)"
   ]
  },
  {
   "cell_type": "code",
   "execution_count": 10,
   "id": "8fc0fb95",
   "metadata": {},
   "outputs": [],
   "source": [
    "# 5. What is transferred to the keyword arguments allowRegexes and blockRegexes?\n"
   ]
  },
  {
   "cell_type": "code",
   "execution_count": 11,
   "id": "04d4c787",
   "metadata": {},
   "outputs": [],
   "source": [
    "# We can also use regular expressions to specify whether an input is allowed or not. The allowRegexes and blockRegexes keyword\n",
    "# argumnets take a list of regular expression strings to determine what the PyInputPlus function will accept or reject as valid \n",
    "# input.\n",
    "# response = pyip.inputNum(allowRegexes=[r'(I|V|X|L|C|D|M)+', r'zero]) it allows roman letters as numbers too"
   ]
  },
  {
   "cell_type": "code",
   "execution_count": 12,
   "id": "77735585",
   "metadata": {},
   "outputs": [],
   "source": [
    "# 6. If a blank input is entered three times, what does inputStr(limit=3) do?\n"
   ]
  },
  {
   "cell_type": "code",
   "execution_count": 14,
   "id": "9b8a2afa",
   "metadata": {},
   "outputs": [],
   "source": [
    "# It will throw RetryLimitException exception.\n",
    "# response = pyip.inputStr(limit=3)"
   ]
  },
  {
   "cell_type": "code",
   "execution_count": 15,
   "id": "0a100d3f",
   "metadata": {},
   "outputs": [],
   "source": [
    "# 7. If blank input is entered three times, what does inputStr(limit=3, default='hello') do?"
   ]
  },
  {
   "cell_type": "code",
   "execution_count": 17,
   "id": "42950b36",
   "metadata": {},
   "outputs": [],
   "source": [
    "# When you use limit keyword arguments and also pass a default keyword argument, the function returns the default value instead\n",
    "# of raising an exception.\n",
    "# response = pyip.inputStr(limit=3, default='hello')\n",
    "# response"
   ]
  },
  {
   "cell_type": "code",
   "execution_count": null,
   "id": "35a538cf",
   "metadata": {},
   "outputs": [],
   "source": []
  }
 ],
 "metadata": {
  "kernelspec": {
   "display_name": "Python 3 (ipykernel)",
   "language": "python",
   "name": "python3"
  },
  "language_info": {
   "codemirror_mode": {
    "name": "ipython",
    "version": 3
   },
   "file_extension": ".py",
   "mimetype": "text/x-python",
   "name": "python",
   "nbconvert_exporter": "python",
   "pygments_lexer": "ipython3",
   "version": "3.9.12"
  }
 },
 "nbformat": 4,
 "nbformat_minor": 5
}
