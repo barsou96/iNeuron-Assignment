{
 "cells": [
  {
   "cell_type": "code",
   "execution_count": 1,
   "id": "02a5fee8",
   "metadata": {},
   "outputs": [],
   "source": [
    "# 1. What are escape characters, and how do you use them?"
   ]
  },
  {
   "cell_type": "code",
   "execution_count": 2,
   "id": "d06f8a6b",
   "metadata": {},
   "outputs": [],
   "source": [
    "# The programmers refer to the \"backlash(\\)\" charecter as an escape charecter. In other words, it has a special meaning when\n",
    "# we use it inside the strings. The escape charecter escapes the charecter in a string for a brief moment to introduce unique \n",
    "# inclusions. backlash signifies that the next charecter after it has different meaning. It could be printing double quotes\n",
    "# or indicating a new line. \n",
    "# The sequence of charecters after a backlash is known as an escape sequence. \n"
   ]
  },
  {
   "cell_type": "code",
   "execution_count": 3,
   "id": "103af253",
   "metadata": {},
   "outputs": [
    {
     "ename": "SyntaxError",
     "evalue": "invalid syntax (861192381.py, line 2)",
     "output_type": "error",
     "traceback": [
      "\u001b[1;36m  Input \u001b[1;32mIn [3]\u001b[1;36m\u001b[0m\n\u001b[1;33m    print(\"\"Hyundai\"\")\u001b[0m\n\u001b[1;37m            ^\u001b[0m\n\u001b[1;31mSyntaxError\u001b[0m\u001b[1;31m:\u001b[0m invalid syntax\n"
     ]
    }
   ],
   "source": [
    "# wrong quotes\n",
    "print(\"\"Hyundai\"\")"
   ]
  },
  {
   "cell_type": "code",
   "execution_count": 4,
   "id": "a54a667b",
   "metadata": {},
   "outputs": [
    {
     "name": "stdout",
     "output_type": "stream",
     "text": [
      "\"Hyundai\"\n"
     ]
    }
   ],
   "source": [
    "# double-quotes inside a doubled quotes\n",
    "print(\"\\\"Hyundai\\\"\")"
   ]
  },
  {
   "cell_type": "code",
   "execution_count": 5,
   "id": "f8ce648b",
   "metadata": {},
   "outputs": [],
   "source": [
    "# 2. What do the escape characters n and t stand for?"
   ]
  },
  {
   "cell_type": "code",
   "execution_count": 6,
   "id": "ad03e2e5",
   "metadata": {},
   "outputs": [],
   "source": [
    "# '\\n'- This represents a new line.\n",
    "# '\\t'- This represents a tab."
   ]
  },
  {
   "cell_type": "code",
   "execution_count": 7,
   "id": "e6fa2d18",
   "metadata": {},
   "outputs": [],
   "source": [
    "# 3. What is the way to include backslash characters in a string?"
   ]
  },
  {
   "cell_type": "code",
   "execution_count": 8,
   "id": "5d83415b",
   "metadata": {},
   "outputs": [],
   "source": [
    "# A single backlash(\\) within a string literal represents an escape charecter\n"
   ]
  },
  {
   "cell_type": "code",
   "execution_count": 9,
   "id": "33cce8a4",
   "metadata": {},
   "outputs": [
    {
     "name": "stdout",
     "output_type": "stream",
     "text": [
      "\\\n"
     ]
    }
   ],
   "source": [
    "# USE TWO BACKLASHES TO REPRESENT A BACKLASH\n",
    "# use the syntax \"\\\\\" within the string literal to represent a single backlash.\n",
    "text = \"\\\\\"\n",
    "print(text)"
   ]
  },
  {
   "cell_type": "code",
   "execution_count": 11,
   "id": "3308e2bb",
   "metadata": {},
   "outputs": [
    {
     "name": "stdout",
     "output_type": "stream",
     "text": [
      "abc\\123\n"
     ]
    }
   ],
   "source": [
    "# USE A RAW STRING TO REPRESENT A BACKLASH\n",
    "# Use the syntax r\"\\\" to treat backlash(\\) as a literal charecter, and not as an escape charecter.\n",
    "raw_text = r\"abc\\123\"\n",
    "print(raw_text)"
   ]
  },
  {
   "cell_type": "code",
   "execution_count": 12,
   "id": "44647714",
   "metadata": {},
   "outputs": [],
   "source": [
    "# 4. The string \"Howl's Moving Castle\" is a correct value.\n",
    "# Why isn't the single quote character in the word Howl's not escaped a problem?"
   ]
  },
  {
   "cell_type": "code",
   "execution_count": 13,
   "id": "facfb505",
   "metadata": {},
   "outputs": [],
   "source": [
    "# The single quote in Howl's is fine because we've used double quotes to mark the begining and the end of the string."
   ]
  },
  {
   "cell_type": "code",
   "execution_count": 14,
   "id": "1be7e96d",
   "metadata": {},
   "outputs": [],
   "source": [
    "# 5. How do you write a string of newlines if you don't want to use the n character?"
   ]
  },
  {
   "cell_type": "code",
   "execution_count": 15,
   "id": "7cc8415a",
   "metadata": {},
   "outputs": [],
   "source": [
    "# Multiline strings allow you to use newlines in strings without the \\n escape charecter."
   ]
  },
  {
   "cell_type": "code",
   "execution_count": 18,
   "id": "f927e40c",
   "metadata": {},
   "outputs": [
    {
     "name": "stdout",
     "output_type": "stream",
     "text": [
      "Object `expressions` not found.\n"
     ]
    }
   ],
   "source": [
    "6. What are the values of the given expressions?\n",
    "#'Hello, world!'[1]\n",
    "#'Hello, world!'[0:5]\n",
    "#'Hello, world!'[:5]\n",
    "#'Hello, world!'[3:]\n",
    "# "
   ]
  },
  {
   "cell_type": "code",
   "execution_count": 23,
   "id": "4be8c26d",
   "metadata": {},
   "outputs": [
    {
     "data": {
      "text/plain": [
       "'e'"
      ]
     },
     "execution_count": 23,
     "metadata": {},
     "output_type": "execute_result"
    }
   ],
   "source": [
    "\"Hello, World!\"[1]"
   ]
  },
  {
   "cell_type": "code",
   "execution_count": 24,
   "id": "57481d76",
   "metadata": {},
   "outputs": [
    {
     "data": {
      "text/plain": [
       "'Hello'"
      ]
     },
     "execution_count": 24,
     "metadata": {},
     "output_type": "execute_result"
    }
   ],
   "source": [
    "\"Hello, World!\"[0:5]"
   ]
  },
  {
   "cell_type": "code",
   "execution_count": 25,
   "id": "00fac345",
   "metadata": {},
   "outputs": [
    {
     "data": {
      "text/plain": [
       "'Hello'"
      ]
     },
     "execution_count": 25,
     "metadata": {},
     "output_type": "execute_result"
    }
   ],
   "source": [
    "\"Hello, World!\"[:5]"
   ]
  },
  {
   "cell_type": "code",
   "execution_count": 26,
   "id": "9bb38286",
   "metadata": {},
   "outputs": [
    {
     "data": {
      "text/plain": [
       "'lo, World!'"
      ]
     },
     "execution_count": 26,
     "metadata": {},
     "output_type": "execute_result"
    }
   ],
   "source": [
    "\"Hello, World!\"[3:]"
   ]
  },
  {
   "cell_type": "code",
   "execution_count": 27,
   "id": "741d099b",
   "metadata": {},
   "outputs": [
    {
     "name": "stdout",
     "output_type": "stream",
     "text": [
      "Object `expressions` not found.\n"
     ]
    }
   ],
   "source": [
    "7. What are the values of the following expressions?\n",
    "#'Hello'.upper()\n",
    "#'Hello'.upper().isupper()\n",
    "#'Hello'.upper().lower()# "
   ]
  },
  {
   "cell_type": "code",
   "execution_count": 28,
   "id": "a60ab779",
   "metadata": {},
   "outputs": [
    {
     "data": {
      "text/plain": [
       "'HELLO'"
      ]
     },
     "execution_count": 28,
     "metadata": {},
     "output_type": "execute_result"
    }
   ],
   "source": [
    "'Hello'.upper()"
   ]
  },
  {
   "cell_type": "code",
   "execution_count": 29,
   "id": "5fe6220a",
   "metadata": {},
   "outputs": [
    {
     "data": {
      "text/plain": [
       "True"
      ]
     },
     "execution_count": 29,
     "metadata": {},
     "output_type": "execute_result"
    }
   ],
   "source": [
    "'Hello'.upper().isupper()"
   ]
  },
  {
   "cell_type": "code",
   "execution_count": 30,
   "id": "6333f763",
   "metadata": {},
   "outputs": [
    {
     "data": {
      "text/plain": [
       "'hello'"
      ]
     },
     "execution_count": 30,
     "metadata": {},
     "output_type": "execute_result"
    }
   ],
   "source": [
    "'Hello'.upper().lower()"
   ]
  },
  {
   "cell_type": "code",
   "execution_count": 31,
   "id": "8683144d",
   "metadata": {},
   "outputs": [],
   "source": [
    "# 8. What are the values of the following expressions?\n",
    "#'Remember, remember, the fifth of July.'.split()\n",
    "#'-'.join('There can only one.'.split())"
   ]
  },
  {
   "cell_type": "code",
   "execution_count": 47,
   "id": "51c1b34b",
   "metadata": {},
   "outputs": [],
   "source": [
    "a = 'Remember, remember, the fifth of July.'.split()"
   ]
  },
  {
   "cell_type": "code",
   "execution_count": 48,
   "id": "b260a84e",
   "metadata": {},
   "outputs": [
    {
     "data": {
      "text/plain": [
       "['Remember,', 'remember,', 'the', 'fifth', 'of', 'July.']"
      ]
     },
     "execution_count": 48,
     "metadata": {},
     "output_type": "execute_result"
    }
   ],
   "source": [
    "a"
   ]
  },
  {
   "cell_type": "code",
   "execution_count": 49,
   "id": "5e6f3b51",
   "metadata": {},
   "outputs": [],
   "source": [
    "b = '-'.join('There can be only one.'.split())"
   ]
  },
  {
   "cell_type": "code",
   "execution_count": 50,
   "id": "4af9570f",
   "metadata": {},
   "outputs": [
    {
     "data": {
      "text/plain": [
       "'There-can-be-only-one.'"
      ]
     },
     "execution_count": 50,
     "metadata": {},
     "output_type": "execute_result"
    }
   ],
   "source": [
    "b"
   ]
  },
  {
   "cell_type": "code",
   "execution_count": 51,
   "id": "de10e321",
   "metadata": {},
   "outputs": [],
   "source": [
    "# 9. What are the methods for right-justifying, left-justifying, and centering a string?"
   ]
  },
  {
   "cell_type": "code",
   "execution_count": 52,
   "id": "3710da7c",
   "metadata": {},
   "outputs": [],
   "source": [
    "# The rjust(), ljust(), and center() string methods, respectively."
   ]
  },
  {
   "cell_type": "code",
   "execution_count": 53,
   "id": "4f287d8d",
   "metadata": {},
   "outputs": [],
   "source": [
    "# 10. What is the best way to remove whitespace characters from the start or end?"
   ]
  },
  {
   "cell_type": "code",
   "execution_count": null,
   "id": "cf0548bc",
   "metadata": {},
   "outputs": [],
   "source": [
    "# The python string strip() method is part of the built-in function available in python. The function will remove given \n",
    "# charecters from the start and end of the original string. This function is very helpful in removing the whitespaces at\n",
    "# the start and end of the given string."
   ]
  }
 ],
 "metadata": {
  "kernelspec": {
   "display_name": "Python 3 (ipykernel)",
   "language": "python",
   "name": "python3"
  },
  "language_info": {
   "codemirror_mode": {
    "name": "ipython",
    "version": 3
   },
   "file_extension": ".py",
   "mimetype": "text/x-python",
   "name": "python",
   "nbconvert_exporter": "python",
   "pygments_lexer": "ipython3",
   "version": "3.9.12"
  }
 },
 "nbformat": 4,
 "nbformat_minor": 5
}
