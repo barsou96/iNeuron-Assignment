{
 "cells": [
  {
   "cell_type": "code",
   "execution_count": 1,
   "id": "323cfe69",
   "metadata": {},
   "outputs": [],
   "source": [
    "# 1. Make a class called Thing with no contents and print it.\n",
    "#Then, create an object called example from this class and also print it. Are the printed values the same or different?"
   ]
  },
  {
   "cell_type": "code",
   "execution_count": 2,
   "id": "54eb2948",
   "metadata": {},
   "outputs": [],
   "source": [
    "class Thing:\n",
    "    pass"
   ]
  },
  {
   "cell_type": "code",
   "execution_count": 3,
   "id": "316ac870",
   "metadata": {},
   "outputs": [
    {
     "name": "stdout",
     "output_type": "stream",
     "text": [
      "<class '__main__.Thing'>\n"
     ]
    }
   ],
   "source": [
    "print(Thing)"
   ]
  },
  {
   "cell_type": "code",
   "execution_count": 4,
   "id": "923e890f",
   "metadata": {},
   "outputs": [],
   "source": [
    "example = Thing()"
   ]
  },
  {
   "cell_type": "code",
   "execution_count": 5,
   "id": "86bb6dc4",
   "metadata": {},
   "outputs": [
    {
     "name": "stdout",
     "output_type": "stream",
     "text": [
      "<__main__.Thing object at 0x000001B9D7CE6400>\n"
     ]
    }
   ],
   "source": [
    "print(example)"
   ]
  },
  {
   "cell_type": "code",
   "execution_count": 9,
   "id": "5e97fdd3",
   "metadata": {},
   "outputs": [],
   "source": [
    "# 2. Create a new class called Thing2 and add the value &#39;abc&#39; to the letters class attribute. Letters\n",
    "#should be printed."
   ]
  },
  {
   "cell_type": "code",
   "execution_count": 10,
   "id": "ec61854d",
   "metadata": {},
   "outputs": [],
   "source": [
    "class Thing2:\n",
    "    letters = 'abc'"
   ]
  },
  {
   "cell_type": "code",
   "execution_count": 11,
   "id": "55a43eb1",
   "metadata": {},
   "outputs": [
    {
     "name": "stdout",
     "output_type": "stream",
     "text": [
      "abc\n"
     ]
    }
   ],
   "source": [
    "print(Thing2.letters)"
   ]
  },
  {
   "cell_type": "code",
   "execution_count": 12,
   "id": "7ed3a7d4",
   "metadata": {},
   "outputs": [],
   "source": [
    "# 3. Make yet another class called, of course, Thing3. This time, assign the value &#39;xyz&#39; to an instance\n",
    "#(object) attribute called letters. Print letters. Do you need to make an object from the class to do this?"
   ]
  },
  {
   "cell_type": "code",
   "execution_count": 13,
   "id": "1ffc0779",
   "metadata": {},
   "outputs": [],
   "source": [
    "class Thing3:\n",
    "    def __init__(self):\n",
    "        self.letters = 'xyz'"
   ]
  },
  {
   "cell_type": "code",
   "execution_count": 14,
   "id": "d72527e3",
   "metadata": {},
   "outputs": [
    {
     "ename": "AttributeError",
     "evalue": "type object 'Thing3' has no attribute 'letters'",
     "output_type": "error",
     "traceback": [
      "\u001b[1;31m---------------------------------------------------------------------------\u001b[0m",
      "\u001b[1;31mAttributeError\u001b[0m                            Traceback (most recent call last)",
      "Input \u001b[1;32mIn [14]\u001b[0m, in \u001b[0;36m<cell line: 1>\u001b[1;34m()\u001b[0m\n\u001b[1;32m----> 1\u001b[0m \u001b[38;5;28mprint\u001b[39m(\u001b[43mThing3\u001b[49m\u001b[38;5;241;43m.\u001b[39;49m\u001b[43mletters\u001b[49m)\n",
      "\u001b[1;31mAttributeError\u001b[0m: type object 'Thing3' has no attribute 'letters'"
     ]
    }
   ],
   "source": [
    "print(Thing3.letters)"
   ]
  },
  {
   "cell_type": "code",
   "execution_count": 15,
   "id": "7418e055",
   "metadata": {},
   "outputs": [],
   "source": [
    "something = Thing3()"
   ]
  },
  {
   "cell_type": "code",
   "execution_count": 16,
   "id": "73737203",
   "metadata": {},
   "outputs": [
    {
     "name": "stdout",
     "output_type": "stream",
     "text": [
      "xyz\n"
     ]
    }
   ],
   "source": [
    "print(something.letters)"
   ]
  },
  {
   "cell_type": "code",
   "execution_count": 17,
   "id": "0262ee32",
   "metadata": {},
   "outputs": [],
   "source": [
    "# 4. Create an Element class with the instance attributes name, symbol, and number. Create a class\n",
    "#object with the values &#39;Hydrogen,&#39; &#39;H,&#39; and 1."
   ]
  },
  {
   "cell_type": "code",
   "execution_count": 18,
   "id": "b7119cfd",
   "metadata": {},
   "outputs": [],
   "source": [
    "class Element:\n",
    "    def __init__(self, name, symbol, number):\n",
    "        self.name = name\n",
    "        self.symbol = symbol\n",
    "        self.number = number"
   ]
  },
  {
   "cell_type": "code",
   "execution_count": 19,
   "id": "1014a3ec",
   "metadata": {},
   "outputs": [],
   "source": [
    "hydrogen = Element('Hydrogen', 'H', 1)"
   ]
  },
  {
   "cell_type": "code",
   "execution_count": 21,
   "id": "1cd49c32",
   "metadata": {},
   "outputs": [],
   "source": [
    "#5. Make a dictionary with these keys and values: &#39;name&#39;: &#39;Hydrogen&#39;, &#39;symbol&#39;: \n",
    "#39;H&#39;, &#39;number&#39;: 1. Then,\n",
    "#create an object called hydrogen from class Element using this dictionary. "
   ]
  },
  {
   "cell_type": "code",
   "execution_count": 22,
   "id": "b04e8848",
   "metadata": {},
   "outputs": [],
   "source": [
    "el_dict = {'name': 'Hydrogen', 'symbol': 'H', 'number': 1}"
   ]
  },
  {
   "cell_type": "code",
   "execution_count": 23,
   "id": "7e6df70e",
   "metadata": {},
   "outputs": [],
   "source": [
    "hydrogen = Element(el_dict['name'], el_dict['symbol'], el_dict['number'])"
   ]
  },
  {
   "cell_type": "code",
   "execution_count": 24,
   "id": "3e637ea9",
   "metadata": {},
   "outputs": [
    {
     "data": {
      "text/plain": [
       "'Hydrogen'"
      ]
     },
     "execution_count": 24,
     "metadata": {},
     "output_type": "execute_result"
    }
   ],
   "source": [
    "hydrogen.name"
   ]
  },
  {
   "cell_type": "code",
   "execution_count": 25,
   "id": "02ebb337",
   "metadata": {},
   "outputs": [],
   "source": [
    "hydrogen = Element(**el_dict)"
   ]
  },
  {
   "cell_type": "code",
   "execution_count": 26,
   "id": "9d7f6d80",
   "metadata": {},
   "outputs": [
    {
     "data": {
      "text/plain": [
       "'Hydrogen'"
      ]
     },
     "execution_count": 26,
     "metadata": {},
     "output_type": "execute_result"
    }
   ],
   "source": [
    "hydrogen.name"
   ]
  },
  {
   "cell_type": "code",
   "execution_count": 27,
   "id": "940014d8",
   "metadata": {},
   "outputs": [],
   "source": [
    "# 6. For the Element class, define a method called dump() that prints the values of the object’s\n",
    "#attributes (name, symbol, and number). Create the hydrogen object from this new definition and\n",
    "#use dump() to print its attributes."
   ]
  },
  {
   "cell_type": "code",
   "execution_count": 28,
   "id": "63bbebb1",
   "metadata": {},
   "outputs": [],
   "source": [
    "class Element:\n",
    "    def __init__(self, name, symbol, number):\n",
    "        self.name = name\n",
    "        self.symbol = symbol\n",
    "        self.number = number\n",
    "    def dump(self):\n",
    "        print('name=%s, symbol=%s, number=%s' %\n",
    "             (self.name, self.symbol, self.number))"
   ]
  },
  {
   "cell_type": "code",
   "execution_count": 29,
   "id": "d68417c7",
   "metadata": {},
   "outputs": [],
   "source": [
    "hydrogen = Element(**el_dict)"
   ]
  },
  {
   "cell_type": "code",
   "execution_count": 30,
   "id": "0cac963c",
   "metadata": {},
   "outputs": [
    {
     "name": "stdout",
     "output_type": "stream",
     "text": [
      "name=Hydrogen, symbol=H, number=1\n"
     ]
    }
   ],
   "source": [
    "hydrogen.dump()"
   ]
  },
  {
   "cell_type": "code",
   "execution_count": 31,
   "id": "621b6b88",
   "metadata": {},
   "outputs": [],
   "source": [
    "# 7. Call print(hydrogen). In the definition of Element, change the name of method dump to __str__,\n",
    "#create a new hydrogen object, and call print(hydrogen) again."
   ]
  },
  {
   "cell_type": "code",
   "execution_count": 32,
   "id": "43e3f1ad",
   "metadata": {},
   "outputs": [
    {
     "name": "stdout",
     "output_type": "stream",
     "text": [
      "<__main__.Element object at 0x000001B9D8DD8FA0>\n"
     ]
    }
   ],
   "source": [
    "print(hydrogen)"
   ]
  },
  {
   "cell_type": "code",
   "execution_count": 33,
   "id": "13de68fc",
   "metadata": {},
   "outputs": [],
   "source": [
    "class Element:\n",
    "    def __init__(self, name, symbol, number):\n",
    "        self.name = name\n",
    "        self.symbol = symbol\n",
    "        self.number = number\n",
    "    def __str__(self):\n",
    "        return ('name=%s, symbol=%s, number=%s'%\n",
    "               (self.name, self.symbol, self.number))"
   ]
  },
  {
   "cell_type": "code",
   "execution_count": 34,
   "id": "972b9f1a",
   "metadata": {},
   "outputs": [],
   "source": [
    "hydrogen = Element(**el_dict)"
   ]
  },
  {
   "cell_type": "code",
   "execution_count": 35,
   "id": "95effe5a",
   "metadata": {},
   "outputs": [
    {
     "name": "stdout",
     "output_type": "stream",
     "text": [
      "name=Hydrogen, symbol=H, number=1\n"
     ]
    }
   ],
   "source": [
    "print(hydrogen)"
   ]
  },
  {
   "cell_type": "code",
   "execution_count": 36,
   "id": "06a89147",
   "metadata": {},
   "outputs": [],
   "source": [
    "# 8. Modify Element to make the attributes name, symbol, and number private. Define a getter\n",
    "#property for each to return its value."
   ]
  },
  {
   "cell_type": "code",
   "execution_count": 37,
   "id": "335ca672",
   "metadata": {},
   "outputs": [],
   "source": [
    "class Element:\n",
    "    def __init__(self, name, symbol, number):\n",
    "        self.__name = name\n",
    "        self.__symbol = symbol\n",
    "        self.__number = number\n",
    "    @property\n",
    "    def name(self):\n",
    "        return self.__name\n",
    "    @property\n",
    "    def symbol(self):\n",
    "        return self.__symbol\n",
    "    @property\n",
    "    def number(self):\n",
    "        return self.__number"
   ]
  },
  {
   "cell_type": "code",
   "execution_count": 38,
   "id": "2ca0fa24",
   "metadata": {},
   "outputs": [],
   "source": [
    "hydrogen = Element('Hydrogen', 'H', 1)"
   ]
  },
  {
   "cell_type": "code",
   "execution_count": 39,
   "id": "a94a31f9",
   "metadata": {},
   "outputs": [
    {
     "data": {
      "text/plain": [
       "'Hydrogen'"
      ]
     },
     "execution_count": 39,
     "metadata": {},
     "output_type": "execute_result"
    }
   ],
   "source": [
    "hydrogen.name"
   ]
  },
  {
   "cell_type": "code",
   "execution_count": 40,
   "id": "cde6ee11",
   "metadata": {},
   "outputs": [
    {
     "data": {
      "text/plain": [
       "'H'"
      ]
     },
     "execution_count": 40,
     "metadata": {},
     "output_type": "execute_result"
    }
   ],
   "source": [
    "hydrogen.symbol"
   ]
  },
  {
   "cell_type": "code",
   "execution_count": 41,
   "id": "d89115dc",
   "metadata": {},
   "outputs": [
    {
     "data": {
      "text/plain": [
       "1"
      ]
     },
     "execution_count": 41,
     "metadata": {},
     "output_type": "execute_result"
    }
   ],
   "source": [
    "hydrogen.number"
   ]
  },
  {
   "cell_type": "code",
   "execution_count": 42,
   "id": "2a05d9f1",
   "metadata": {},
   "outputs": [],
   "source": [
    "#9. Define three classes: Bear, Rabbit, and Octothorpe. For each, define only one method: eats(). This\n",
    "#should return &#39;berries&#39; (Bear), &#39;clover&#39; (Rabbit), or &#39;campers&#39; (Octothorpe). Create one object from\n",
    "#each and print what it eats."
   ]
  },
  {
   "cell_type": "code",
   "execution_count": 43,
   "id": "fea46292",
   "metadata": {},
   "outputs": [],
   "source": [
    "class Bear:\n",
    "    def eats(self):\n",
    "        return 'berries'\n",
    "class Rabbit:\n",
    "    def eats(self):\n",
    "        return 'clover'\n",
    "class Octothorpe:\n",
    "    def eats(self):\n",
    "        return 'campers'"
   ]
  },
  {
   "cell_type": "code",
   "execution_count": 44,
   "id": "16ba105b",
   "metadata": {},
   "outputs": [],
   "source": [
    "b = Bear()"
   ]
  },
  {
   "cell_type": "code",
   "execution_count": 45,
   "id": "74688da7",
   "metadata": {},
   "outputs": [],
   "source": [
    "r = Rabbit()"
   ]
  },
  {
   "cell_type": "code",
   "execution_count": 46,
   "id": "20901590",
   "metadata": {},
   "outputs": [],
   "source": [
    "o = Octothorpe()"
   ]
  },
  {
   "cell_type": "code",
   "execution_count": 47,
   "id": "dd1dc6c3",
   "metadata": {},
   "outputs": [
    {
     "name": "stdout",
     "output_type": "stream",
     "text": [
      "berries\n"
     ]
    }
   ],
   "source": [
    "print(b.eats())"
   ]
  },
  {
   "cell_type": "code",
   "execution_count": 48,
   "id": "e278723d",
   "metadata": {},
   "outputs": [
    {
     "name": "stdout",
     "output_type": "stream",
     "text": [
      "clover\n"
     ]
    }
   ],
   "source": [
    "print(r.eats())"
   ]
  },
  {
   "cell_type": "code",
   "execution_count": 49,
   "id": "f138e69c",
   "metadata": {},
   "outputs": [
    {
     "name": "stdout",
     "output_type": "stream",
     "text": [
      "campers\n"
     ]
    }
   ],
   "source": [
    "print(o.eats())"
   ]
  },
  {
   "cell_type": "code",
   "execution_count": 50,
   "id": "09251203",
   "metadata": {},
   "outputs": [],
   "source": [
    "# 10. Define these classes: Laser, Claw, and SmartPhone. Each has only one method: does(). This\n",
    "#returns &#39;disintegrate&#39; (Laser), &#39;crush&#39; (Claw), or &#39;ring&#39; (SmartPhone). \n",
    "#Then, define the class Robot that\n",
    "#has one instance (object) of each of these. Define a does() method for the Robot that prints what its\n",
    "#component objects do."
   ]
  },
  {
   "cell_type": "code",
   "execution_count": 51,
   "id": "02920eea",
   "metadata": {},
   "outputs": [],
   "source": [
    "class Laser:\n",
    "    def does(self):\n",
    "        return 'disintegrate'\n",
    "class Claw:\n",
    "    def does(self):\n",
    "        return 'crush'\n",
    "class SmartPhone:\n",
    "    def does(self):\n",
    "        return 'ring'\n",
    "    \n",
    "class Robot:\n",
    "    def __init__(self):\n",
    "        self.laser = Laser()\n",
    "        self.claw = Claw()\n",
    "        self.smartphone = SmartPhone()\n",
    "    def does(self):\n",
    "        return '''I have many attachments:\n",
    "        My laser, to %s.\n",
    "        My claw, to %s.''' % (\n",
    "        self.laser.does(),\n",
    "        self.claw.does(),\n",
    "        self.smartphone.does() )"
   ]
  },
  {
   "cell_type": "code",
   "execution_count": 52,
   "id": "cc7f4f83",
   "metadata": {},
   "outputs": [],
   "source": [
    "robbie = Robot()"
   ]
  },
  {
   "cell_type": "code",
   "execution_count": 53,
   "id": "9ffe7a2f",
   "metadata": {},
   "outputs": [
    {
     "ename": "TypeError",
     "evalue": "not all arguments converted during string formatting",
     "output_type": "error",
     "traceback": [
      "\u001b[1;31m---------------------------------------------------------------------------\u001b[0m",
      "\u001b[1;31mTypeError\u001b[0m                                 Traceback (most recent call last)",
      "Input \u001b[1;32mIn [53]\u001b[0m, in \u001b[0;36m<cell line: 1>\u001b[1;34m()\u001b[0m\n\u001b[1;32m----> 1\u001b[0m \u001b[38;5;28mprint\u001b[39m(\u001b[43mrobbie\u001b[49m\u001b[38;5;241;43m.\u001b[39;49m\u001b[43mdoes\u001b[49m\u001b[43m(\u001b[49m\u001b[43m)\u001b[49m)\n",
      "Input \u001b[1;32mIn [51]\u001b[0m, in \u001b[0;36mRobot.does\u001b[1;34m(self)\u001b[0m\n\u001b[0;32m     16\u001b[0m \u001b[38;5;28;01mdef\u001b[39;00m \u001b[38;5;21mdoes\u001b[39m(\u001b[38;5;28mself\u001b[39m):\n\u001b[1;32m---> 17\u001b[0m     \u001b[38;5;28;01mreturn\u001b[39;00m \u001b[38;5;124;43m'''\u001b[39;49m\u001b[38;5;124;43mI have many attachments:\u001b[39;49m\n\u001b[0;32m     18\u001b[0m \u001b[38;5;124;43m    My laser, to \u001b[39;49m\u001b[38;5;132;43;01m%s\u001b[39;49;00m\u001b[38;5;124;43m.\u001b[39;49m\n\u001b[0;32m     19\u001b[0m \u001b[38;5;124;43m    My claw, to \u001b[39;49m\u001b[38;5;132;43;01m%s\u001b[39;49;00m\u001b[38;5;124;43m.\u001b[39;49m\u001b[38;5;124;43m'''\u001b[39;49m\u001b[43m \u001b[49m\u001b[38;5;241;43m%\u001b[39;49m\u001b[43m \u001b[49m\u001b[43m(\u001b[49m\n\u001b[0;32m     20\u001b[0m \u001b[43m    \u001b[49m\u001b[38;5;28;43mself\u001b[39;49m\u001b[38;5;241;43m.\u001b[39;49m\u001b[43mlaser\u001b[49m\u001b[38;5;241;43m.\u001b[39;49m\u001b[43mdoes\u001b[49m\u001b[43m(\u001b[49m\u001b[43m)\u001b[49m\u001b[43m,\u001b[49m\n\u001b[0;32m     21\u001b[0m \u001b[43m    \u001b[49m\u001b[38;5;28;43mself\u001b[39;49m\u001b[38;5;241;43m.\u001b[39;49m\u001b[43mclaw\u001b[49m\u001b[38;5;241;43m.\u001b[39;49m\u001b[43mdoes\u001b[49m\u001b[43m(\u001b[49m\u001b[43m)\u001b[49m\u001b[43m,\u001b[49m\n\u001b[0;32m     22\u001b[0m \u001b[43m    \u001b[49m\u001b[38;5;28;43mself\u001b[39;49m\u001b[38;5;241;43m.\u001b[39;49m\u001b[43msmartphone\u001b[49m\u001b[38;5;241;43m.\u001b[39;49m\u001b[43mdoes\u001b[49m\u001b[43m(\u001b[49m\u001b[43m)\u001b[49m\u001b[43m \u001b[49m\u001b[43m)\u001b[49m\n",
      "\u001b[1;31mTypeError\u001b[0m: not all arguments converted during string formatting"
     ]
    }
   ],
   "source": [
    "print(robbie.does())"
   ]
  },
  {
   "cell_type": "code",
   "execution_count": null,
   "id": "664267c9",
   "metadata": {},
   "outputs": [],
   "source": []
  }
 ],
 "metadata": {
  "kernelspec": {
   "display_name": "Python 3 (ipykernel)",
   "language": "python",
   "name": "python3"
  },
  "language_info": {
   "codemirror_mode": {
    "name": "ipython",
    "version": 3
   },
   "file_extension": ".py",
   "mimetype": "text/x-python",
   "name": "python",
   "nbconvert_exporter": "python",
   "pygments_lexer": "ipython3",
   "version": "3.9.12"
  }
 },
 "nbformat": 4,
 "nbformat_minor": 5
}
