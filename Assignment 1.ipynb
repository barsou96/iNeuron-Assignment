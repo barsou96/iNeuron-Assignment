{
 "cells": [
  {
   "cell_type": "code",
   "execution_count": 1,
   "id": "0864a93c",
   "metadata": {},
   "outputs": [],
   "source": [
    "#Q1"
   ]
  },
  {
   "cell_type": "code",
   "execution_count": 8,
   "id": "fe845699",
   "metadata": {},
   "outputs": [],
   "source": [
    "#  '*'--- 'Expression'\n",
    "#  'hello'---'string'\n",
    "#  '-87.8'----'Float int' \n",
    "#   '-'---'Expression'\n",
    "#   '/'---'Expression'\n",
    "#   '+'---'Expression'\n",
    "#   '6'---'Int'\n",
    "\n",
    "\n"
   ]
  },
  {
   "cell_type": "code",
   "execution_count": 11,
   "id": "621b4a84",
   "metadata": {},
   "outputs": [],
   "source": [
    "#Q2  What is the difference between string and variable?\n"
   ]
  },
  {
   "cell_type": "code",
   "execution_count": 12,
   "id": "a079d0fe",
   "metadata": {},
   "outputs": [],
   "source": [
    "# String is a class, reference datatype, it is used to represent text type data, \n",
    "# variable is any alphabet or group of alphabet which work which work as temporary storage locations, a variable is\n",
    "# used to represent any value\n",
    "# example\n",
    "# String x = \"Ronnie\"; here x is a variable and type of value it stores is in string"
   ]
  },
  {
   "cell_type": "code",
   "execution_count": 13,
   "id": "9a148339",
   "metadata": {},
   "outputs": [],
   "source": [
    "# Q3. Describe three different data types"
   ]
  },
  {
   "cell_type": "code",
   "execution_count": 14,
   "id": "dd832ea0",
   "metadata": {},
   "outputs": [],
   "source": [
    "# There are primarily 5 data types in python: Numeric, Dictionary, Boolean, Set, Sequence Type"
   ]
  },
  {
   "cell_type": "code",
   "execution_count": 15,
   "id": "db703c0d",
   "metadata": {},
   "outputs": [],
   "source": [
    "# Numeric : Contains Integer, Complex Number, Float\n",
    "# Sequence Type : Contains Strings, List, Tuple\n",
    "# Boolean : Contains True, False"
   ]
  },
  {
   "cell_type": "code",
   "execution_count": 16,
   "id": "9158a7fa",
   "metadata": {},
   "outputs": [],
   "source": [
    "# Q4 What is an expression made up of? What do all expressions do?"
   ]
  },
  {
   "cell_type": "code",
   "execution_count": 17,
   "id": "84a94614",
   "metadata": {},
   "outputs": [],
   "source": [
    "# Expressions are made up of (strings, numbers, lists, sets, tuples), objects, function calls, identifiers combined with \n",
    "# a variety of operators which result in a value - regardless of whether of the resulting value is an object, or a number, or \n",
    "# even a none.\n",
    "# Expressions returns a value."
   ]
  },
  {
   "cell_type": "code",
   "execution_count": 18,
   "id": "c95a6b6f",
   "metadata": {},
   "outputs": [],
   "source": [
    "# Q5 This assignment statements, like spam = 10. What is the difference between an expression and a statement?\n",
    "# 'spam = 10' it is an expression.\n",
    "# Diff bw Expression and Statement:\n",
    "# Expression always returns a value while a statement never returns a value,\n",
    "# Expression can print result value while Statement cannot print any result,\n",
    "# examples of expressions: \"Hello\"+\"World\",etc\n",
    "# examples of python expressions: Assignment statements, loops, import, def, etc"
   ]
  },
  {
   "cell_type": "code",
   "execution_count": 20,
   "id": "46616937",
   "metadata": {},
   "outputs": [],
   "source": [
    "# Q6 6. After running the following code, what does the variable bacon contain?\n",
    "# bacon = 22\n",
    "# bacon + 1\n"
   ]
  },
  {
   "cell_type": "code",
   "execution_count": 21,
   "id": "670d6ff7",
   "metadata": {},
   "outputs": [
    {
     "data": {
      "text/plain": [
       "23"
      ]
     },
     "execution_count": 21,
     "metadata": {},
     "output_type": "execute_result"
    }
   ],
   "source": [
    "bacon = 22\n",
    "bacon + 1"
   ]
  },
  {
   "cell_type": "code",
   "execution_count": 22,
   "id": "c83d8925",
   "metadata": {},
   "outputs": [],
   "source": [
    "# Q7 What should the values of the following two terms be?\n",
    "#'spam' + 'spamspam'\n",
    "#'spam' * 3\n"
   ]
  },
  {
   "cell_type": "code",
   "execution_count": 23,
   "id": "d34ebfa7",
   "metadata": {},
   "outputs": [
    {
     "data": {
      "text/plain": [
       "'spamspamspam'"
      ]
     },
     "execution_count": 23,
     "metadata": {},
     "output_type": "execute_result"
    }
   ],
   "source": [
    "a = 'spam'\n",
    "b = 'spamspam'\n",
    "a + b"
   ]
  },
  {
   "cell_type": "code",
   "execution_count": 24,
   "id": "0a31d9c5",
   "metadata": {},
   "outputs": [],
   "source": [
    "a = 'spam'\n",
    "b = a * 3"
   ]
  },
  {
   "cell_type": "code",
   "execution_count": 25,
   "id": "bf29d75e",
   "metadata": {},
   "outputs": [
    {
     "data": {
      "text/plain": [
       "'spamspamspam'"
      ]
     },
     "execution_count": 25,
     "metadata": {},
     "output_type": "execute_result"
    }
   ],
   "source": [
    "b"
   ]
  },
  {
   "cell_type": "code",
   "execution_count": 26,
   "id": "fa9b2a6b",
   "metadata": {},
   "outputs": [],
   "source": [
    "# Q8  Why is eggs a valid variable name while 100 is invalid?\n"
   ]
  },
  {
   "cell_type": "code",
   "execution_count": 27,
   "id": "2a71fc73",
   "metadata": {},
   "outputs": [],
   "source": [
    "# 'eggs'  is a valid variable name because it starts with an alphabet, a variable name is valid only if it starts with alphabet\n",
    "# (upper or lower case) or we can use an underscore at start. '100' is invalid but '_100' would be valid."
   ]
  },
  {
   "cell_type": "code",
   "execution_count": 28,
   "id": "98a4f917",
   "metadata": {},
   "outputs": [],
   "source": [
    "# Q9 What three functions can be used to get the integer, floating-point number, or string version of a value?"
   ]
  },
  {
   "cell_type": "code",
   "execution_count": 29,
   "id": "fdc49cfe",
   "metadata": {},
   "outputs": [],
   "source": [
    "# The int(), float() and str() functions will evaluate to the integer, floating-point number and sting versions of the value \n",
    "# passed to them."
   ]
  },
  {
   "cell_type": "code",
   "execution_count": 30,
   "id": "196d568a",
   "metadata": {},
   "outputs": [],
   "source": [
    "# Q10 Why does this expression cause an error? How can you fix it?\n",
    "# 'I have eaten ' + 99 + ' burritos.'\n"
   ]
  },
  {
   "cell_type": "code",
   "execution_count": 32,
   "id": "2e2d2f76",
   "metadata": {},
   "outputs": [
    {
     "data": {
      "text/plain": [
       "'I have eaten 99 burritos'"
      ]
     },
     "execution_count": 32,
     "metadata": {},
     "output_type": "execute_result"
    }
   ],
   "source": [
    "'I have eaten' + ' 99 ' + 'burritos'"
   ]
  },
  {
   "cell_type": "code",
   "execution_count": null,
   "id": "32dd7e00",
   "metadata": {},
   "outputs": [],
   "source": []
  }
 ],
 "metadata": {
  "kernelspec": {
   "display_name": "Python 3 (ipykernel)",
   "language": "python",
   "name": "python3"
  },
  "language_info": {
   "codemirror_mode": {
    "name": "ipython",
    "version": 3
   },
   "file_extension": ".py",
   "mimetype": "text/x-python",
   "name": "python",
   "nbconvert_exporter": "python",
   "pygments_lexer": "ipython3",
   "version": "3.9.12"
  }
 },
 "nbformat": 4,
 "nbformat_minor": 5
}
