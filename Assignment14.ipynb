{
 "cells": [
  {
   "cell_type": "code",
   "execution_count": 1,
   "id": "e7fe47e4",
   "metadata": {},
   "outputs": [],
   "source": [
    "# 1. What does RGBA stand for?"
   ]
  },
  {
   "cell_type": "code",
   "execution_count": 2,
   "id": "f4de2c69",
   "metadata": {},
   "outputs": [],
   "source": [
    "# RGBA stands for red, green, blue and alpha (transparency) in the color. An RGBA value is a tuple of 4 integers, each ranging \n",
    "# from 0 to 255. The four integers correspond to the amount of red, green and alpha(transparency) in the color."
   ]
  },
  {
   "cell_type": "code",
   "execution_count": 3,
   "id": "01ef7732",
   "metadata": {},
   "outputs": [],
   "source": [
    "# 2. From the Pillow module, how do you get the RGBA value of any images?"
   ]
  },
  {
   "cell_type": "code",
   "execution_count": 4,
   "id": "fad65a3f",
   "metadata": {},
   "outputs": [],
   "source": [
    "# from PIL import ImageColor\n",
    "# ImageColor.getcolor('red', 'RGBA')\n",
    "# ImageColor.getcolor('green', 'RGBA')"
   ]
  },
  {
   "cell_type": "code",
   "execution_count": 5,
   "id": "0646b646",
   "metadata": {},
   "outputs": [],
   "source": [
    "# 3. What is box tuple, and how does it work?"
   ]
  },
  {
   "cell_type": "code",
   "execution_count": 6,
   "id": "4f56a53b",
   "metadata": {},
   "outputs": [],
   "source": [
    "# A box tuple is a tuple value of foour integers: the left edge x-coordinate, the top edge y-coordinate,\n",
    "#the width, and the hieght, respectively."
   ]
  },
  {
   "cell_type": "code",
   "execution_count": 7,
   "id": "0e7697bb",
   "metadata": {},
   "outputs": [],
   "source": [
    "# 4. Use your image and load in notebook then, How can you find out the width and hieght of an Image object?"
   ]
  },
  {
   "cell_type": "code",
   "execution_count": 9,
   "id": "c9d7cafb",
   "metadata": {},
   "outputs": [],
   "source": [
    "# from PIL import Image\n",
    "# myImg = Image.open('Ronnie.jpg')\n",
    "# w,h = myImg.size\n",
    "# w,h"
   ]
  },
  {
   "cell_type": "code",
   "execution_count": 10,
   "id": "370377ca",
   "metadata": {},
   "outputs": [],
   "source": [
    "# 5. What method would you call to get Image object for a 100x100 image, excluding the lower-left quarter of it?"
   ]
  },
  {
   "cell_type": "code",
   "execution_count": 11,
   "id": "2874fb67",
   "metadata": {},
   "outputs": [],
   "source": [
    "# ImageObject.crop((0, 50, 50, 50))"
   ]
  },
  {
   "cell_type": "code",
   "execution_count": 12,
   "id": "ba58fefb",
   "metadata": {},
   "outputs": [],
   "source": [
    "# 6. After making changes to an Image object, how could you save it as ana image file?"
   ]
  },
  {
   "cell_type": "code",
   "execution_count": 13,
   "id": "bd1387c2",
   "metadata": {},
   "outputs": [],
   "source": [
    "# By Calling the imageObj.save('new_filename.png') method of the Image object."
   ]
  },
  {
   "cell_type": "code",
   "execution_count": 15,
   "id": "1dc350da",
   "metadata": {},
   "outputs": [],
   "source": [
    "# 7. What module contains pillow's shape-drawing code?"
   ]
  },
  {
   "cell_type": "code",
   "execution_count": 16,
   "id": "44967523",
   "metadata": {},
   "outputs": [],
   "source": [
    "# The ImageDraw module conatins code to draw on images."
   ]
  },
  {
   "cell_type": "code",
   "execution_count": 17,
   "id": "25825590",
   "metadata": {},
   "outputs": [],
   "source": [
    "# 8. Image Objects do not have drawing methods. What kind of object does? How do you get this kind of object?"
   ]
  },
  {
   "cell_type": "code",
   "execution_count": 18,
   "id": "9f157a73",
   "metadata": {},
   "outputs": [],
   "source": [
    "# ImageDraw objects have shape-drawing methods such as point(), line(), or rectangle(). They are returned by passing\n",
    "# the Image object to the ImageDraw.Draw() function."
   ]
  },
  {
   "cell_type": "code",
   "execution_count": null,
   "id": "67ddc3f8",
   "metadata": {},
   "outputs": [],
   "source": []
  }
 ],
 "metadata": {
  "kernelspec": {
   "display_name": "Python 3 (ipykernel)",
   "language": "python",
   "name": "python3"
  },
  "language_info": {
   "codemirror_mode": {
    "name": "ipython",
    "version": 3
   },
   "file_extension": ".py",
   "mimetype": "text/x-python",
   "name": "python",
   "nbconvert_exporter": "python",
   "pygments_lexer": "ipython3",
   "version": "3.9.12"
  }
 },
 "nbformat": 4,
 "nbformat_minor": 5
}
