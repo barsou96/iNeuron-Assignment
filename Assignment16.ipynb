{
 "cells": [
  {
   "cell_type": "code",
   "execution_count": 1,
   "id": "235cd084",
   "metadata": {},
   "outputs": [],
   "source": [
    "#1. Create a list called years_list, starting with the year of your birth, and each year thereafter until\n",
    "#the year of your fifth birthday. For example, if you were born in 1980. the list would be years_list =\n",
    "#[1980, 1981, 1982, 1983, 1984, 1985]."
   ]
  },
  {
   "cell_type": "code",
   "execution_count": 2,
   "id": "4cf16185",
   "metadata": {},
   "outputs": [
    {
     "data": {
      "text/plain": [
       "[1982, 1983, 1984, 1985, 1986, 1987]"
      ]
     },
     "execution_count": 2,
     "metadata": {},
     "output_type": "execute_result"
    }
   ],
   "source": [
    "years_list = [i for i in range(1982,1982+6)]\n",
    "years_list"
   ]
  },
  {
   "cell_type": "code",
   "execution_count": 3,
   "id": "cae3f845",
   "metadata": {},
   "outputs": [],
   "source": [
    "#2. In which year in years_list was your third birthday? Remember, you were 0 years of age for your\n",
    "#first year."
   ]
  },
  {
   "cell_type": "code",
   "execution_count": 4,
   "id": "fb5f81cd",
   "metadata": {},
   "outputs": [
    {
     "data": {
      "text/plain": [
       "1985"
      ]
     },
     "execution_count": 4,
     "metadata": {},
     "output_type": "execute_result"
    }
   ],
   "source": [
    "#first year\n",
    "years_list[3]"
   ]
  },
  {
   "cell_type": "code",
   "execution_count": 5,
   "id": "526f2bc9",
   "metadata": {},
   "outputs": [],
   "source": [
    "# 3.In the years list, which year were you the oldest?"
   ]
  },
  {
   "cell_type": "code",
   "execution_count": 6,
   "id": "5c07e887",
   "metadata": {},
   "outputs": [
    {
     "data": {
      "text/plain": [
       "1987"
      ]
     },
     "execution_count": 6,
     "metadata": {},
     "output_type": "execute_result"
    }
   ],
   "source": [
    "max(years_list)"
   ]
  },
  {
   "cell_type": "code",
   "execution_count": 7,
   "id": "268e8e5b",
   "metadata": {},
   "outputs": [],
   "source": [
    "# 4. Make a list called things with these three strings as elements: &quot;mozzarella&quot;, &quot;cinderella&quot;,\n",
    "#&quot;salmonella&quot;."
   ]
  },
  {
   "cell_type": "code",
   "execution_count": 8,
   "id": "f14b9005",
   "metadata": {},
   "outputs": [
    {
     "data": {
      "text/plain": [
       "['mozzarella', 'cinderella', 'salmonella']"
      ]
     },
     "execution_count": 8,
     "metadata": {},
     "output_type": "execute_result"
    }
   ],
   "source": [
    "things = list(['mozzarella', 'cinderella', 'salmonella'])\n",
    "things"
   ]
  },
  {
   "cell_type": "code",
   "execution_count": 9,
   "id": "860900fc",
   "metadata": {},
   "outputs": [],
   "source": [
    "# 5. Capitalize the element in things that refers to a person and then print the list. Did it change the\n",
    "# element in the list?"
   ]
  },
  {
   "cell_type": "code",
   "execution_count": 10,
   "id": "a43f66f5",
   "metadata": {},
   "outputs": [],
   "source": [
    "# Capitalize() will not update the list original values."
   ]
  },
  {
   "cell_type": "code",
   "execution_count": 11,
   "id": "385e75b0",
   "metadata": {},
   "outputs": [
    {
     "name": "stdout",
     "output_type": "stream",
     "text": [
      "Mozzarella\n",
      "Cinderella\n",
      "Salmonella\n"
     ]
    },
    {
     "data": {
      "text/plain": [
       "['mozzarella', 'cinderella', 'salmonella']"
      ]
     },
     "execution_count": 11,
     "metadata": {},
     "output_type": "execute_result"
    }
   ],
   "source": [
    "for i in things:\n",
    "    print(i.capitalize())\n",
    "things"
   ]
  },
  {
   "cell_type": "code",
   "execution_count": 12,
   "id": "4cead221",
   "metadata": {},
   "outputs": [],
   "source": [
    "# 6. Make a surprise list with the elements &quot;Groucho,&quot; &quot;Chico,&quot; and &quot;Harpo.&quot;"
   ]
  },
  {
   "cell_type": "code",
   "execution_count": 13,
   "id": "ceeadedf",
   "metadata": {},
   "outputs": [
    {
     "data": {
      "text/plain": [
       "['Groucho', 'Chico', 'Harpo']"
      ]
     },
     "execution_count": 13,
     "metadata": {},
     "output_type": "execute_result"
    }
   ],
   "source": [
    "surprise_list = [\"Groucho\", \"Chico\", \"Harpo\"]\n",
    "surprise_list"
   ]
  },
  {
   "cell_type": "code",
   "execution_count": 14,
   "id": "3d0cc87b",
   "metadata": {},
   "outputs": [],
   "source": [
    "# 7. Lowercase the last element of the surprise list, reverse it, and then capitalize it."
   ]
  },
  {
   "cell_type": "code",
   "execution_count": 15,
   "id": "6eb2f8f4",
   "metadata": {},
   "outputs": [
    {
     "data": {
      "text/plain": [
       "'harpo'"
      ]
     },
     "execution_count": 15,
     "metadata": {},
     "output_type": "execute_result"
    }
   ],
   "source": [
    "surprise_list[-1].lower()"
   ]
  },
  {
   "cell_type": "code",
   "execution_count": 16,
   "id": "7b6f8878",
   "metadata": {},
   "outputs": [
    {
     "data": {
      "text/plain": [
       "'opraH'"
      ]
     },
     "execution_count": 16,
     "metadata": {},
     "output_type": "execute_result"
    }
   ],
   "source": [
    "surprise_list[-1][::-1]"
   ]
  },
  {
   "cell_type": "code",
   "execution_count": 17,
   "id": "fed58168",
   "metadata": {},
   "outputs": [
    {
     "data": {
      "text/plain": [
       "'OPRAH'"
      ]
     },
     "execution_count": 17,
     "metadata": {},
     "output_type": "execute_result"
    }
   ],
   "source": [
    "surprise_list[-1][::-1].upper()"
   ]
  },
  {
   "cell_type": "code",
   "execution_count": 18,
   "id": "379c93b9",
   "metadata": {},
   "outputs": [],
   "source": [
    "# 8. Make an English-to-French dictionary called e2f and print it. Here are your starter words: dog is\n",
    "#chien, cat is chat, and walrus is morse."
   ]
  },
  {
   "cell_type": "code",
   "execution_count": 19,
   "id": "3bdf5fa6",
   "metadata": {},
   "outputs": [],
   "source": [
    "e2f = {'dog':'chien', 'cat':'chat', 'walrus':'morse'}"
   ]
  },
  {
   "cell_type": "code",
   "execution_count": 20,
   "id": "18cac564",
   "metadata": {},
   "outputs": [],
   "source": [
    "# 9. Write the French word for walrus in your three-word dictionary e2f."
   ]
  },
  {
   "cell_type": "code",
   "execution_count": 21,
   "id": "a6359a58",
   "metadata": {},
   "outputs": [
    {
     "data": {
      "text/plain": [
       "'morse'"
      ]
     },
     "execution_count": 21,
     "metadata": {},
     "output_type": "execute_result"
    }
   ],
   "source": [
    "e2f['walrus']"
   ]
  },
  {
   "cell_type": "code",
   "execution_count": 22,
   "id": "b4480047",
   "metadata": {},
   "outputs": [],
   "source": [
    "# 10. Make a French-to-English dictionary called f2e from e2f. Use the items method.# "
   ]
  },
  {
   "cell_type": "code",
   "execution_count": 23,
   "id": "5900880e",
   "metadata": {},
   "outputs": [
    {
     "data": {
      "text/plain": [
       "{'chien': 'dog', 'chat': 'cat', 'morse': 'walrus'}"
      ]
     },
     "execution_count": 23,
     "metadata": {},
     "output_type": "execute_result"
    }
   ],
   "source": [
    "f2e = dict((key,value) for value,key in e2f.items())\n",
    "f2e"
   ]
  },
  {
   "cell_type": "code",
   "execution_count": 24,
   "id": "fd8120d3",
   "metadata": {},
   "outputs": [],
   "source": [
    "#11. Print the English version of the French word chien using f2e.# "
   ]
  },
  {
   "cell_type": "code",
   "execution_count": 25,
   "id": "110a1184",
   "metadata": {},
   "outputs": [
    {
     "data": {
      "text/plain": [
       "'dog'"
      ]
     },
     "execution_count": 25,
     "metadata": {},
     "output_type": "execute_result"
    }
   ],
   "source": [
    "f2e['chien']"
   ]
  },
  {
   "cell_type": "code",
   "execution_count": 26,
   "id": "77052b26",
   "metadata": {},
   "outputs": [],
   "source": [
    "#12. Make and print a set of English words from the keys in e2f.# "
   ]
  },
  {
   "cell_type": "code",
   "execution_count": 27,
   "id": "89edf0d1",
   "metadata": {},
   "outputs": [
    {
     "data": {
      "text/plain": [
       "dict_keys(['dog', 'cat', 'walrus'])"
      ]
     },
     "execution_count": 27,
     "metadata": {},
     "output_type": "execute_result"
    }
   ],
   "source": [
    "e2f.keys()"
   ]
  },
  {
   "cell_type": "code",
   "execution_count": 28,
   "id": "6454a7ca",
   "metadata": {},
   "outputs": [],
   "source": [
    "# 13. Make a multilevel dictionary called life. Use these strings for the topmost keys: &#39;animals&#39;, &#39;plants&#39;,\n",
    "#and &#39;other&#39;. Make the &#39;animals&#39; key refer to another dictionary with the keys &#39;cats&#39;, &#39;octopi&#39;, and\n",
    "#&#39;emus&#39;. Make the &#39;cats&#39; key refer to a list of strings with the values &#39;Henri&#39;, &#39;Grumpy&#39;, and &#39;Lucy&#39;.\n",
    "#Make all the other keys refer to empty dictionaries."
   ]
  },
  {
   "cell_type": "code",
   "execution_count": 29,
   "id": "3bcf6ece",
   "metadata": {},
   "outputs": [
    {
     "data": {
      "text/plain": [
       "{'animals': {'cat': ['Henri', 'Grumpy', 'Lucy'], 'octopi': '', 'emus': ''},\n",
       " 'plants': '',\n",
       " 'other': ''}"
      ]
     },
     "execution_count": 29,
     "metadata": {},
     "output_type": "execute_result"
    }
   ],
   "source": [
    "life = {'animals':{'cat':['Henri', 'Grumpy', 'Lucy'], 'octopi':'', 'emus':''},\n",
    "       'plants' :'',\n",
    "       'other' :''}\n",
    "life"
   ]
  },
  {
   "cell_type": "code",
   "execution_count": 30,
   "id": "17e84296",
   "metadata": {},
   "outputs": [],
   "source": [
    "# 14. Print the top-level keys of life."
   ]
  },
  {
   "cell_type": "code",
   "execution_count": 31,
   "id": "942359a6",
   "metadata": {},
   "outputs": [
    {
     "data": {
      "text/plain": [
       "dict_keys(['animals', 'plants', 'other'])"
      ]
     },
     "execution_count": 31,
     "metadata": {},
     "output_type": "execute_result"
    }
   ],
   "source": [
    "life.keys()"
   ]
  },
  {
   "cell_type": "code",
   "execution_count": 32,
   "id": "ffda0c60",
   "metadata": {},
   "outputs": [],
   "source": [
    "# 15. Print the keys for life[&#39;animals&#39;]."
   ]
  },
  {
   "cell_type": "code",
   "execution_count": 33,
   "id": "5b415274",
   "metadata": {},
   "outputs": [
    {
     "data": {
      "text/plain": [
       "dict_keys(['cat', 'octopi', 'emus'])"
      ]
     },
     "execution_count": 33,
     "metadata": {},
     "output_type": "execute_result"
    }
   ],
   "source": [
    "life['animals'].keys()"
   ]
  },
  {
   "cell_type": "code",
   "execution_count": 34,
   "id": "90a4b7aa",
   "metadata": {},
   "outputs": [],
   "source": [
    "#16. Print the values for life[&#39;animals&#39;][&#39;cats&#39;]# "
   ]
  },
  {
   "cell_type": "code",
   "execution_count": 35,
   "id": "0c4c852a",
   "metadata": {},
   "outputs": [
    {
     "data": {
      "text/plain": [
       "['Henri', 'Grumpy', 'Lucy']"
      ]
     },
     "execution_count": 35,
     "metadata": {},
     "output_type": "execute_result"
    }
   ],
   "source": [
    "life['animals']['cat']"
   ]
  },
  {
   "cell_type": "code",
   "execution_count": null,
   "id": "7bd0bd09",
   "metadata": {},
   "outputs": [],
   "source": []
  }
 ],
 "metadata": {
  "kernelspec": {
   "display_name": "Python 3 (ipykernel)",
   "language": "python",
   "name": "python3"
  },
  "language_info": {
   "codemirror_mode": {
    "name": "ipython",
    "version": 3
   },
   "file_extension": ".py",
   "mimetype": "text/x-python",
   "name": "python",
   "nbconvert_exporter": "python",
   "pygments_lexer": "ipython3",
   "version": "3.9.12"
  }
 },
 "nbformat": 4,
 "nbformat_minor": 5
}
