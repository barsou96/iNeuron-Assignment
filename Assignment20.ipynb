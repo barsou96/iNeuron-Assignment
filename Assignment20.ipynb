{
 "cells": [
  {
   "cell_type": "code",
   "execution_count": 1,
   "id": "a46860a1",
   "metadata": {},
   "outputs": [],
   "source": [
    "# 1. Set the variable test1 to the string &#39;This is a test of the emergency text system,&#39; and save test1 to a\n",
    "#file named test.txt."
   ]
  },
  {
   "cell_type": "code",
   "execution_count": 2,
   "id": "64c84a2f",
   "metadata": {},
   "outputs": [],
   "source": [
    "test1 = 'This is a test of the emergency text system'"
   ]
  },
  {
   "cell_type": "code",
   "execution_count": 3,
   "id": "40d08709",
   "metadata": {},
   "outputs": [
    {
     "data": {
      "text/plain": [
       "43"
      ]
     },
     "execution_count": 3,
     "metadata": {},
     "output_type": "execute_result"
    }
   ],
   "source": [
    "len(test1)"
   ]
  },
  {
   "cell_type": "code",
   "execution_count": 4,
   "id": "98a09ea6",
   "metadata": {},
   "outputs": [],
   "source": [
    "outfile = open('test.txt', 'w')"
   ]
  },
  {
   "cell_type": "code",
   "execution_count": 5,
   "id": "a69dab07",
   "metadata": {},
   "outputs": [
    {
     "data": {
      "text/plain": [
       "43"
      ]
     },
     "execution_count": 5,
     "metadata": {},
     "output_type": "execute_result"
    }
   ],
   "source": [
    "outfile.write(test1)"
   ]
  },
  {
   "cell_type": "code",
   "execution_count": 6,
   "id": "0a8c770e",
   "metadata": {},
   "outputs": [],
   "source": [
    "outfile.close()"
   ]
  },
  {
   "cell_type": "code",
   "execution_count": 7,
   "id": "08533d1e",
   "metadata": {},
   "outputs": [],
   "source": [
    "# 2. Read the contents of the file test.txt into the variable test2. Is there a difference between test 1\n",
    "#and test 2?"
   ]
  },
  {
   "cell_type": "code",
   "execution_count": 8,
   "id": "361775d1",
   "metadata": {},
   "outputs": [],
   "source": [
    "with open('test.txt', 'rt') as infile:\n",
    "    test2 = infile.read()"
   ]
  },
  {
   "cell_type": "code",
   "execution_count": 9,
   "id": "18ac19ff",
   "metadata": {},
   "outputs": [
    {
     "data": {
      "text/plain": [
       "43"
      ]
     },
     "execution_count": 9,
     "metadata": {},
     "output_type": "execute_result"
    }
   ],
   "source": [
    "len(test2)"
   ]
  },
  {
   "cell_type": "code",
   "execution_count": 10,
   "id": "7ad07870",
   "metadata": {},
   "outputs": [
    {
     "data": {
      "text/plain": [
       "True"
      ]
     },
     "execution_count": 10,
     "metadata": {},
     "output_type": "execute_result"
    }
   ],
   "source": [
    "test1 == test2"
   ]
  },
  {
   "cell_type": "code",
   "execution_count": 11,
   "id": "da41634e",
   "metadata": {},
   "outputs": [],
   "source": [
    "# 3. Create a CSV file called books.csv by using these lines:\n",
    "#title,author,year\n",
    "#The Weirdstone of Brisingamen,Alan Garner,1960\n",
    "#Perdido Street Station,China Miéville,2000\n",
    "#Thud!,Terry Pratchett,2005\n",
    "#The Spellman Files,Lisa Lutz,2007\n",
    "#Small Gods,Terry Pratchett,1992"
   ]
  },
  {
   "cell_type": "code",
   "execution_count": 4,
   "id": "fc425e14",
   "metadata": {},
   "outputs": [],
   "source": [
    "text='''title, author, year\n",
    "The Wierdstone of Brisingamen, Alan Garner, 1960\n",
    "Perdido Street Station, China Mieville, 2000\n",
    "Thud!, Terry Pratchett, 2005\n",
    "The Spellman Files, Lisa Lutz, 2007\n",
    "Small Gods, Terry Pratchett,1992'''"
   ]
  },
  {
   "cell_type": "code",
   "execution_count": 5,
   "id": "0c997989",
   "metadata": {},
   "outputs": [],
   "source": [
    "with open('books.csv', 'wt') as outfile:\n",
    "    outfile.write(text)"
   ]
  },
  {
   "cell_type": "code",
   "execution_count": 6,
   "id": "75c54cc3",
   "metadata": {},
   "outputs": [],
   "source": [
    "# 4. Use the sqlite3 module to create a SQLite database called books.db, and a table called books with\n",
    "#these fields: title (text), author (text), and year (integer)."
   ]
  },
  {
   "cell_type": "code",
   "execution_count": 7,
   "id": "fdeb45ee",
   "metadata": {},
   "outputs": [],
   "source": [
    "import sqlite3"
   ]
  },
  {
   "cell_type": "code",
   "execution_count": 8,
   "id": "12b3741f",
   "metadata": {},
   "outputs": [],
   "source": [
    "db = sqlite3.connect('books.db')"
   ]
  },
  {
   "cell_type": "code",
   "execution_count": 9,
   "id": "6a707b98",
   "metadata": {},
   "outputs": [],
   "source": [
    "curs = db.cursor()"
   ]
  },
  {
   "cell_type": "code",
   "execution_count": 10,
   "id": "672b9567",
   "metadata": {},
   "outputs": [
    {
     "ename": "OperationalError",
     "evalue": "table book already exists",
     "output_type": "error",
     "traceback": [
      "\u001b[1;31m---------------------------------------------------------------------------\u001b[0m",
      "\u001b[1;31mOperationalError\u001b[0m                          Traceback (most recent call last)",
      "Input \u001b[1;32mIn [10]\u001b[0m, in \u001b[0;36m<cell line: 1>\u001b[1;34m()\u001b[0m\n\u001b[1;32m----> 1\u001b[0m \u001b[43mcurs\u001b[49m\u001b[38;5;241;43m.\u001b[39;49m\u001b[43mexecute\u001b[49m\u001b[43m(\u001b[49m\u001b[38;5;124;43m'''\u001b[39;49m\u001b[38;5;124;43mcreate table book (title text, author text, year int)\u001b[39;49m\u001b[38;5;124;43m'''\u001b[39;49m\u001b[43m)\u001b[49m\n",
      "\u001b[1;31mOperationalError\u001b[0m: table book already exists"
     ]
    }
   ],
   "source": [
    "curs.execute('''create table book (title text, author text, year int)''')"
   ]
  },
  {
   "cell_type": "code",
   "execution_count": 19,
   "id": "0749a7ed",
   "metadata": {},
   "outputs": [],
   "source": [
    "db.commit()"
   ]
  },
  {
   "cell_type": "code",
   "execution_count": 20,
   "id": "f34a4baa",
   "metadata": {},
   "outputs": [],
   "source": [
    "# 5. Read books.csv and insert its data into the book table."
   ]
  },
  {
   "cell_type": "code",
   "execution_count": 21,
   "id": "a3b6dece",
   "metadata": {},
   "outputs": [],
   "source": [
    "import csv"
   ]
  },
  {
   "cell_type": "code",
   "execution_count": 22,
   "id": "9d9f2970",
   "metadata": {},
   "outputs": [],
   "source": [
    "import sqlite3"
   ]
  },
  {
   "cell_type": "code",
   "execution_count": 23,
   "id": "527cd095",
   "metadata": {},
   "outputs": [],
   "source": [
    "ins_str = ' insert into book values(?, ?, ?)'"
   ]
  },
  {
   "cell_type": "code",
   "execution_count": 24,
   "id": "78b11402",
   "metadata": {},
   "outputs": [
    {
     "ename": "KeyError",
     "evalue": "'author'",
     "output_type": "error",
     "traceback": [
      "\u001b[1;31m---------------------------------------------------------------------------\u001b[0m",
      "\u001b[1;31mKeyError\u001b[0m                                  Traceback (most recent call last)",
      "Input \u001b[1;32mIn [24]\u001b[0m, in \u001b[0;36m<cell line: 1>\u001b[1;34m()\u001b[0m\n\u001b[0;32m      2\u001b[0m books \u001b[38;5;241m=\u001b[39m csv\u001b[38;5;241m.\u001b[39mDictReader(infile)\n\u001b[0;32m      3\u001b[0m \u001b[38;5;28;01mfor\u001b[39;00m book \u001b[38;5;129;01min\u001b[39;00m books:\n\u001b[1;32m----> 4\u001b[0m     curs\u001b[38;5;241m.\u001b[39mexecute(ins_str, (book[\u001b[38;5;124m'\u001b[39m\u001b[38;5;124mtitle\u001b[39m\u001b[38;5;124m'\u001b[39m], \u001b[43mbook\u001b[49m\u001b[43m[\u001b[49m\u001b[38;5;124;43m'\u001b[39;49m\u001b[38;5;124;43mauthor\u001b[39;49m\u001b[38;5;124;43m'\u001b[39;49m\u001b[43m]\u001b[49m, book[\u001b[38;5;124m'\u001b[39m\u001b[38;5;124myear\u001b[39m\u001b[38;5;124m'\u001b[39m]))\n",
      "\u001b[1;31mKeyError\u001b[0m: 'author'"
     ]
    }
   ],
   "source": [
    "with open('books.csv', 'rt') as infile:\n",
    "    books = csv.DictReader(infile)\n",
    "    for book in books:\n",
    "        curs.execute(ins_str, (book['title'], book['author'], book['year']))"
   ]
  },
  {
   "cell_type": "code",
   "execution_count": 28,
   "id": "b2a51252",
   "metadata": {},
   "outputs": [],
   "source": [
    "db.commit()"
   ]
  },
  {
   "cell_type": "code",
   "execution_count": 29,
   "id": "5ada05d9",
   "metadata": {},
   "outputs": [],
   "source": [
    "# 6. Select and print the title column from the book table in alphabetical order."
   ]
  },
  {
   "cell_type": "code",
   "execution_count": 30,
   "id": "5c41f44b",
   "metadata": {},
   "outputs": [],
   "source": [
    "sql = 'select title from book order by title asc'"
   ]
  },
  {
   "cell_type": "code",
   "execution_count": 1,
   "id": "434f6480",
   "metadata": {},
   "outputs": [
    {
     "ename": "NameError",
     "evalue": "name 'db' is not defined",
     "output_type": "error",
     "traceback": [
      "\u001b[1;31m---------------------------------------------------------------------------\u001b[0m",
      "\u001b[1;31mNameError\u001b[0m                                 Traceback (most recent call last)",
      "Input \u001b[1;32mIn [1]\u001b[0m, in \u001b[0;36m<cell line: 1>\u001b[1;34m()\u001b[0m\n\u001b[1;32m----> 1\u001b[0m \u001b[38;5;28;01mfor\u001b[39;00m row \u001b[38;5;129;01min\u001b[39;00m \u001b[43mdb\u001b[49m\u001b[38;5;241m.\u001b[39mexecute(sql):\n\u001b[0;32m      2\u001b[0m     \u001b[38;5;28mprint\u001b[39m(row)\n",
      "\u001b[1;31mNameError\u001b[0m: name 'db' is not defined"
     ]
    }
   ],
   "source": [
    "for row in db.execute(sql):\n",
    "    print(row)"
   ]
  },
  {
   "cell_type": "code",
   "execution_count": 2,
   "id": "45a67b11",
   "metadata": {},
   "outputs": [
    {
     "ename": "NameError",
     "evalue": "name 'db' is not defined",
     "output_type": "error",
     "traceback": [
      "\u001b[1;31m---------------------------------------------------------------------------\u001b[0m",
      "\u001b[1;31mNameError\u001b[0m                                 Traceback (most recent call last)",
      "Input \u001b[1;32mIn [2]\u001b[0m, in \u001b[0;36m<cell line: 1>\u001b[1;34m()\u001b[0m\n\u001b[1;32m----> 1\u001b[0m \u001b[38;5;28;01mfor\u001b[39;00m row \u001b[38;5;129;01min\u001b[39;00m \u001b[43mdb\u001b[49m\u001b[38;5;241m.\u001b[39mexecute(sql):\n\u001b[0;32m      2\u001b[0m     \u001b[38;5;28mprint\u001b[39m(row[\u001b[38;5;241m0\u001b[39m])\n",
      "\u001b[1;31mNameError\u001b[0m: name 'db' is not defined"
     ]
    }
   ],
   "source": [
    "for row in db.execute(sql):\n",
    "    print(row[0])"
   ]
  },
  {
   "cell_type": "code",
   "execution_count": 3,
   "id": "8223f934",
   "metadata": {},
   "outputs": [],
   "source": [
    "# 7. From the book table, select and print all columns in the order of publication."
   ]
  },
  {
   "cell_type": "code",
   "execution_count": 11,
   "id": "2317091e",
   "metadata": {},
   "outputs": [],
   "source": [
    "# for row in db.execute('select * from book order by year'):\n",
    "#      print(row)"
   ]
  },
  {
   "cell_type": "code",
   "execution_count": 12,
   "id": "2edf282b",
   "metadata": {},
   "outputs": [],
   "source": [
    "# for row in db.execute('select * from book by year'):\n",
    "#      print(*row, sep=', ')"
   ]
  },
  {
   "cell_type": "code",
   "execution_count": 13,
   "id": "ee309488",
   "metadata": {},
   "outputs": [],
   "source": [
    "# 8. Use the sqlalchemy module to connect to the sqlite3 database books.db that you just made in\n",
    "# exercise 6."
   ]
  },
  {
   "cell_type": "code",
   "execution_count": 14,
   "id": "36b31148",
   "metadata": {},
   "outputs": [],
   "source": [
    "# import sqlalchemy\n",
    "# conn = sqlalchemy.create_engine('sqlite://books.db')\n",
    "# sql = 'select title from book order by title asc'\n",
    "# rows = conn.execute(sql)\n",
    "# for row in rows:\n",
    "#     print(row)"
   ]
  },
  {
   "cell_type": "code",
   "execution_count": 15,
   "id": "8b8dbf80",
   "metadata": {},
   "outputs": [],
   "source": [
    "# 9. Install the Redis server and the Python redis library (pip install redis) on your computer. Create a\n",
    "#Redis hash called test with the fields count (1) and name (&#39;Fester Bestertester&#39;). Print all the fields for test"
   ]
  },
  {
   "cell_type": "code",
   "execution_count": 16,
   "id": "4de10155",
   "metadata": {},
   "outputs": [],
   "source": [
    "# !pip install redis"
   ]
  },
  {
   "cell_type": "code",
   "execution_count": 17,
   "id": "f993282d",
   "metadata": {},
   "outputs": [],
   "source": [
    "# 10. Increment the count field of test and print it."
   ]
  },
  {
   "cell_type": "code",
   "execution_count": null,
   "id": "89630059",
   "metadata": {},
   "outputs": [],
   "source": []
  }
 ],
 "metadata": {
  "kernelspec": {
   "display_name": "Python 3 (ipykernel)",
   "language": "python",
   "name": "python3"
  },
  "language_info": {
   "codemirror_mode": {
    "name": "ipython",
    "version": 3
   },
   "file_extension": ".py",
   "mimetype": "text/x-python",
   "name": "python",
   "nbconvert_exporter": "python",
   "pygments_lexer": "ipython3",
   "version": "3.9.12"
  }
 },
 "nbformat": 4,
 "nbformat_minor": 5
}
