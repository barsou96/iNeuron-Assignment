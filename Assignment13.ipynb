{
 "cells": [
  {
   "cell_type": "code",
   "execution_count": 1,
   "id": "7bd2a806",
   "metadata": {},
   "outputs": [],
   "source": [
    "# 1. What advantages do Excel spreadsheets have over CSV spreadsheets?"
   ]
  },
  {
   "cell_type": "code",
   "execution_count": 2,
   "id": "315665dd",
   "metadata": {},
   "outputs": [],
   "source": [
    "# Excel advantages over CSV\n",
    "# 1. It is a binary file that holds information about all the worksheets in a workbook.\n",
    "# 2. An Excel not only stores data but can also do operations on the data.\n",
    "# 3. Files saved in excel cannot be opened or edited by text editors.\n",
    "# 4. Large files use is much easier in excel for the end user. Also, you can have additional functions like selecting \n",
    "# individual cells for import, convert dates and time automatically, reading formulas and their results, filters, sorting,etc.\n",
    "# 5. Apart from text, data can also be stored in form of charts and graphs.\n",
    "# 6. Excel can connect to external data sources to fetch data. You can use custom add-in in excel to increase its functionality.\n",
    "# 7. Excel allows for Review of data with detailed tracking and commenting feature.\n",
    "# 8. In Excel, spreadsheets can have values of data types other than strings; cells can have different fonts, sizes,\n",
    "# or color settings; cells can have varying widths and hieghts; adjacent cells can be merged."
   ]
  },
  {
   "cell_type": "code",
   "execution_count": 3,
   "id": "a0befd20",
   "metadata": {},
   "outputs": [],
   "source": [
    "# 2. What do you pass to csv.reader() and csv.writer() to create reader and writer objects?"
   ]
  },
  {
   "cell_type": "code",
   "execution_count": 4,
   "id": "ce328b43",
   "metadata": {},
   "outputs": [],
   "source": [
    "# we pass a File object, obtained from a call to open().\n",
    "# import csv\n",
    "# exFile = open('example.csv')\n",
    "# exData = list(exreader)\n",
    "# exData"
   ]
  },
  {
   "cell_type": "code",
   "execution_count": 5,
   "id": "d731b164",
   "metadata": {},
   "outputs": [],
   "source": [
    "# 3. What modes do File objects for reader and writer objects need to be opened in?"
   ]
  },
  {
   "cell_type": "code",
   "execution_count": 1,
   "id": "04fcaed7",
   "metadata": {},
   "outputs": [],
   "source": [
    "# File objects need to be opened in read-binary('rb') for Reader Objects and write-binary('wb') for Writer objects "
   ]
  },
  {
   "cell_type": "code",
   "execution_count": 2,
   "id": "b871a3df",
   "metadata": {},
   "outputs": [],
   "source": [
    "# 4. What method takes a list argument and writes it to a CSV file?"
   ]
  },
  {
   "cell_type": "code",
   "execution_count": 3,
   "id": "47394503",
   "metadata": {},
   "outputs": [],
   "source": [
    "# The writerow() method\n",
    "# opFile = open('output.csv','w')\n",
    "# opWriter = csv.writer(opfile)\n",
    "# csv.writer(opFile).writerow['egg','orange','milk']"
   ]
  },
  {
   "cell_type": "code",
   "execution_count": 4,
   "id": "467d2f7c",
   "metadata": {},
   "outputs": [],
   "source": [
    "# 5. What do the keyword arguments delimiter and line terminator do?"
   ]
  },
  {
   "cell_type": "code",
   "execution_count": 5,
   "id": "555e506b",
   "metadata": {},
   "outputs": [],
   "source": [
    "# The delimiter argument changes the string used to separate cells in a row.\n",
    "# The lineterminator argument changes the string used to separte rows.\n",
    "# import csv\n",
    "# csvFile = open('example.tsv', 'w', newline='')\n",
    "# csvWriter = csv.writer(csvFile, delimiter='\\t', lineterminator='\\n\\n')"
   ]
  },
  {
   "cell_type": "code",
   "execution_count": 7,
   "id": "88582b9f",
   "metadata": {},
   "outputs": [],
   "source": [
    "# 6. What function takes a string of JSON data and returns a Python data structure?"
   ]
  },
  {
   "cell_type": "code",
   "execution_count": 8,
   "id": "b244c4b9",
   "metadata": {},
   "outputs": [],
   "source": [
    "#json.loads()"
   ]
  },
  {
   "cell_type": "code",
   "execution_count": 9,
   "id": "09dca245",
   "metadata": {},
   "outputs": [],
   "source": [
    "# 7. What function takes a Python data structure and returns a string of JSON data?"
   ]
  },
  {
   "cell_type": "code",
   "execution_count": 10,
   "id": "5dff5d91",
   "metadata": {},
   "outputs": [],
   "source": [
    "# json.dumps()"
   ]
  },
  {
   "cell_type": "code",
   "execution_count": null,
   "id": "026548f5",
   "metadata": {},
   "outputs": [],
   "source": []
  }
 ],
 "metadata": {
  "kernelspec": {
   "display_name": "Python 3 (ipykernel)",
   "language": "python",
   "name": "python3"
  },
  "language_info": {
   "codemirror_mode": {
    "name": "ipython",
    "version": 3
   },
   "file_extension": ".py",
   "mimetype": "text/x-python",
   "name": "python",
   "nbconvert_exporter": "python",
   "pygments_lexer": "ipython3",
   "version": "3.9.12"
  }
 },
 "nbformat": 4,
 "nbformat_minor": 5
}
